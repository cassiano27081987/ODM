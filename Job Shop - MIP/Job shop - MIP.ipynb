{
 "cells": [
  {
   "cell_type": "markdown",
   "metadata": {},
   "source": [
    "# Exemplo de programação de operações em Job Shop\n",
    "\n",
    "Programa que lê um conjunto de tempos de processamento de tarefas em um ambiente Job Shop e uma sequencia. Ele deve retornar o makespan."
   ]
  },
  {
   "cell_type": "markdown",
   "metadata": {},
   "source": [
    "Importação das bibliotecas "
   ]
  },
  {
   "cell_type": "code",
   "execution_count": 25,
   "metadata": {},
   "outputs": [],
   "source": [
    "import numpy as np\n",
    "import plotly.io as pio\n",
    "import matplotlib.patches as mpatches\n",
    "import matplotlib.pyplot as plt\n",
    "import plotly.graph_objs as go# for Gantt\n",
    "from plotly.offline import download_plotlyjs, init_notebook_mode,  plot #for Gantt\n",
    "from collections import defaultdict\n",
    "import random\n",
    "import datetime                         #for Gantt (time formatting) #duration is in days\n",
    "import plotly                           #for Gantt (full package)\n",
    "import plotly.figure_factory as ff      #for Gantt\n",
    "import chart_studio.plotly as py  \n",
    "from itertools import product\n",
    "from mip import Model, BINARY"
   ]
  },
  {
   "cell_type": "markdown",
   "metadata": {},
   "source": [
    "Leitura dos dados"
   ]
  },
  {
   "cell_type": "code",
   "execution_count": 26,
   "metadata": {},
   "outputs": [
    {
     "name": "stdout",
     "output_type": "stream",
     "text": [
      "[[ 5  7 10]\n",
      " [ 9  5  3]\n",
      " [ 5  8  2]\n",
      " [ 2  7  4]\n",
      " [ 8  8  8]]\n"
     ]
    }
   ],
   "source": [
    "# Leitura da matriz dos tempos de processamento\n",
    "\n",
    "tempos_Proc = []\n",
    "fob = open(\"tempos_processamento-Job_shop.txt\", \"r\") #Lendo matriz. Desse jeito, tempos_Proc[n][m]\n",
    "for linha in fob.readlines():\n",
    "    #print(\"A linha é: \",linha)\n",
    "    tempos_Proc.append([int(i) for i in linha.split()])\n",
    "fob.close()\n",
    "\n",
    "tempos_Proc = np.array(tempos_Proc)\n",
    "print(tempos_Proc)"
   ]
  },
  {
   "cell_type": "code",
   "execution_count": 27,
   "metadata": {},
   "outputs": [
    {
     "name": "stdout",
     "output_type": "stream",
     "text": [
      "[[1 0 2]\n",
      " [0 1 2]\n",
      " [2 1 0]\n",
      " [1 0 2]\n",
      " [2 0 1]]\n"
     ]
    }
   ],
   "source": [
    "# Leitura da matriz de roteiro de fabricação\n",
    "\n",
    "roteiro_Fabr = []\n",
    "fob = open(\"matriz_roteiro-Job_shop.txt\", \"r\") #Lendo matriz. Desse jeito, tempos_Proc[n][m]\n",
    "for linha in fob.readlines():\n",
    "    #print(\"A linha é: \",linha)\n",
    "    roteiro_Fabr.append([int(i) for i in linha.split()])\n",
    "fob.close()\n",
    "\n",
    "roteiro_Fabr = np.array(roteiro_Fabr)\n",
    "print(roteiro_Fabr)"
   ]
  },
  {
   "cell_type": "markdown",
   "metadata": {},
   "source": [
    "Declaração dos conjuntos"
   ]
  },
  {
   "cell_type": "code",
   "execution_count": 28,
   "metadata": {},
   "outputs": [
    {
     "name": "stdout",
     "output_type": "stream",
     "text": [
      " O número de jobs a serem sequenciados é 3 e o número de máquinas é 5\n",
      "5\n",
      "3\n"
     ]
    }
   ],
   "source": [
    "job =  len(tempos_Proc[0]) # número de jobs\n",
    "machine =  len(tempos_Proc) # número de máquinas\n",
    "\n",
    "print(f' O número de jobs a serem sequenciados é {job} e o número de máquinas é {machine}')\n",
    "\n",
    "# Conjunto de tarefas\n",
    "n = len(tempos_Proc) # número de jobs\n",
    "print(n)\n",
    "\n",
    "# Conjunto de máquinas\n",
    "m =  len(tempos_Proc[0]) # número de máquinas\n",
    "print(m)\n"
   ]
  },
  {
   "cell_type": "markdown",
   "metadata": {},
   "source": [
    "Declaração dos parâmetros"
   ]
  },
  {
   "cell_type": "code",
   "execution_count": 29,
   "metadata": {},
   "outputs": [
    {
     "name": "stdout",
     "output_type": "stream",
     "text": [
      "91\n"
     ]
    }
   ],
   "source": [
    "# Parâmetro big M - Utilizado nas restrições disjuntivas para sequenciamento\n",
    "\n",
    "M = np.max(np.cumsum(tempos_Proc))\n",
    "\n",
    "print(M)"
   ]
  },
  {
   "cell_type": "markdown",
   "metadata": {},
   "source": [
    "Criação do modelo de otimização"
   ]
  },
  {
   "cell_type": "code",
   "execution_count": 30,
   "metadata": {},
   "outputs": [],
   "source": [
    "model = Model('JSSP')"
   ]
  },
  {
   "cell_type": "markdown",
   "metadata": {},
   "source": [
    "Declaração das variáveis"
   ]
  },
  {
   "cell_type": "code",
   "execution_count": 31,
   "metadata": {},
   "outputs": [],
   "source": [
    "# Variável de decisão: C - instante de térmo da tarefa i na última máquina k da sequência de programação\n",
    "C = model.add_var(name=\"C\")\n",
    "\n",
    "# Variável de decisão binária: Y_ijk = 1 se a tarefa i precede a tarefa j na máquina k\n",
    "Y = [[[model.add_var(var_type=BINARY, name='Y({},{},{})'.format(j+1, k+1, i+1))\n",
    "       for i in range(m)] for k in range(n)] for j in range(n)]\n",
    "\n",
    "# Variável de decisão X_ij - instante de início da tarefa i na máquina j\n",
    "X = [[model.add_var(name='X({},{})'.format(j+1, i+1))\n",
    "      for i in range(m)] for j in range(n)]\n"
   ]
  },
  {
   "cell_type": "markdown",
   "metadata": {},
   "source": [
    "Declaração da Função Objetivo"
   ]
  },
  {
   "cell_type": "markdown",
   "metadata": {},
   "source": [
    "$min C$\n",
    "\n",
    "$C \\ge X_{j,o_{m,j}} + p_{j,o_{m,j}}, \\qquad \\forall j \\in n$\n",
    "\n",
    "Onde:\n",
    "\n",
    "$o_{m,j}$ representa a operação respectiva ao roteriro do job $j$ na máquina $m$ - estas informações estão no parâmetro roteiro_Fabr\n",
    "\n",
    "$p_{m,j}$ representa o tempo de processamento do job $j$ na máquina $m$ - estas informações estão no parâmetro tempos_Proc"
   ]
  },
  {
   "cell_type": "code",
   "execution_count": 32,
   "metadata": {},
   "outputs": [],
   "source": [
    "model.objective = C\n",
    "\n",
    "for j in range(n):\n",
    "    model += C - X[j][roteiro_Fabr[j][m - 1]] >= tempos_Proc[j][roteiro_Fabr[j][m - 1]]"
   ]
  },
  {
   "cell_type": "markdown",
   "metadata": {},
   "source": [
    "Declaração das restrições"
   ]
  },
  {
   "cell_type": "markdown",
   "metadata": {},
   "source": [
    "$X_{j,o_{r,j}} \\ge X_{j,o_{r-1,j}} + p_{j,o_{r-1,j}}, \\qquad \\forall j \\in n, \\forall r \\in \\{2,3,...m\\}$\n"
   ]
  },
  {
   "cell_type": "code",
   "execution_count": 33,
   "metadata": {},
   "outputs": [],
   "source": [
    "for (j, i) in product(range(n), range(1, m)):\n",
    "    model += X[j][roteiro_Fabr[j][i]] - X[j][roteiro_Fabr[j][i-1]] >= \\\n",
    "        tempos_Proc[j][roteiro_Fabr[j][i-1]]"
   ]
  },
  {
   "cell_type": "markdown",
   "metadata": {},
   "source": [
    "$X_{i,j} \\ge X_{i,k} + p_{i,k} - M(Y_{i,j,k}), \\qquad \\forall j, k \\in n, \\forall i \\in m \\qquad if \\qquad j\\neq k$"
   ]
  },
  {
   "cell_type": "code",
   "execution_count": 34,
   "metadata": {},
   "outputs": [],
   "source": [
    "for (j, k) in product(range(n), range(n)):\n",
    "    if k != j:\n",
    "        for i in range(m):\n",
    "            model += X[j][i] - X[k][i] + M*Y[j][k][i] >= tempos_Proc[k][i]"
   ]
  },
  {
   "cell_type": "markdown",
   "metadata": {},
   "source": [
    "$X_{i,k} \\ge X_{i,j} + p_{i,j} - M(1 - Y_{i,j,k}), \\qquad \\forall j, k \\in n, \\forall i \\in m \\qquad if \\qquad j\\neq k$"
   ]
  },
  {
   "cell_type": "code",
   "execution_count": 35,
   "metadata": {},
   "outputs": [],
   "source": [
    "for (j, k) in product(range(n), range(n)):\n",
    "    if k != j:\n",
    "        for i in range(m):\n",
    "            model += -X[j][i] + X[k][i] - M*Y[j][k][i] >= tempos_Proc[j][i] - M"
   ]
  },
  {
   "cell_type": "markdown",
   "metadata": {},
   "source": [
    "Chamando o solver"
   ]
  },
  {
   "cell_type": "code",
   "execution_count": 36,
   "metadata": {},
   "outputs": [
    {
     "data": {
      "text/plain": [
       "<OptimizationStatus.OPTIMAL: 0>"
      ]
     },
     "execution_count": 36,
     "metadata": {},
     "output_type": "execute_result"
    }
   ],
   "source": [
    "model.optimize()"
   ]
  },
  {
   "cell_type": "markdown",
   "metadata": {},
   "source": [
    "Impressão dos resultados"
   ]
  },
  {
   "cell_type": "code",
   "execution_count": 38,
   "metadata": {},
   "outputs": [
    {
     "name": "stdout",
     "output_type": "stream",
     "text": [
      "Completion time:  35.0\n",
      "A tarefa 1 inicia o seu processamento na máquina 1 no tempo 9 \n",
      "A tarefa 1 inicia o seu processamento na máquina 2 no tempo 0 \n",
      "A tarefa 1 inicia o seu processamento na máquina 3 no tempo 14 \n",
      "A tarefa 2 inicia o seu processamento na máquina 1 no tempo 0 \n",
      "A tarefa 2 inicia o seu processamento na máquina 2 no tempo 22 \n",
      "A tarefa 2 inicia o seu processamento na máquina 3 no tempo 28 \n",
      "A tarefa 3 inicia o seu processamento na máquina 1 no tempo 24 \n",
      "A tarefa 3 inicia o seu processamento na máquina 2 no tempo 14 \n",
      "A tarefa 3 inicia o seu processamento na máquina 3 no tempo 0 \n",
      "A tarefa 4 inicia o seu processamento na máquina 1 no tempo 22 \n",
      "A tarefa 4 inicia o seu processamento na máquina 2 no tempo 7 \n",
      "A tarefa 4 inicia o seu processamento na máquina 3 no tempo 24 \n",
      "A tarefa 5 inicia o seu processamento na máquina 1 no tempo 14 \n",
      "A tarefa 5 inicia o seu processamento na máquina 2 no tempo 27 \n",
      "A tarefa 5 inicia o seu processamento na máquina 3 no tempo 2 \n"
     ]
    }
   ],
   "source": [
    "\n",
    "print(\"Completion time: \", C.x)\n",
    "for (j, i) in product(range(n), range(m)):\n",
    "    print(\"A tarefa %d inicia o seu processamento na máquina %d no tempo %g \" % (j+1, i+1, X[j][i].x))"
   ]
  },
  {
   "cell_type": "markdown",
   "metadata": {},
   "source": [
    "Impressão do Gannt"
   ]
  },
  {
   "cell_type": "code",
   "execution_count": 39,
   "metadata": {},
   "outputs": [
    {
     "data": {
      "application/vnd.plotly.v1+json": {
       "config": {
        "plotlyServerURL": "https://plot.ly"
       },
       "data": [
        {
         "fill": "toself",
         "fillcolor": "rgb(127, 37, 194)",
         "hoverinfo": "name",
         "legendgroup": "rgb(127, 37, 194)",
         "mode": "none",
         "name": "job 3",
         "showlegend": true,
         "type": "scatter",
         "x": [
          "2022-09-16 07:24:00",
          "2022-09-16 07:29:00",
          "2022-09-16 07:29:00",
          "2022-09-16 07:24:00",
          "2022-09-16 07:24:00",
          "2022-09-16 07:14:00",
          "2022-09-16 07:22:00",
          "2022-09-16 07:22:00",
          "2022-09-16 07:14:00",
          "2022-09-16 07:14:00",
          "2022-09-16 07:00:00",
          "2022-09-16 07:02:00",
          "2022-09-16 07:02:00",
          "2022-09-16 07:00:00"
         ],
         "y": [
          1.8,
          1.8,
          2.2,
          2.2,
          null,
          0.8,
          0.8,
          1.2,
          1.2,
          null,
          -0.2,
          -0.2,
          0.2,
          0.2
         ]
        },
        {
         "fill": "toself",
         "fillcolor": "rgb(151, 162, 180)",
         "hoverinfo": "name",
         "legendgroup": "rgb(151, 162, 180)",
         "mode": "none",
         "name": "job 5",
         "showlegend": true,
         "type": "scatter",
         "x": [
          "2022-09-16 07:14:00",
          "2022-09-16 07:22:00",
          "2022-09-16 07:22:00",
          "2022-09-16 07:14:00",
          "2022-09-16 07:14:00",
          "2022-09-16 07:27:00",
          "2022-09-16 07:35:00",
          "2022-09-16 07:35:00",
          "2022-09-16 07:27:00",
          "2022-09-16 07:27:00",
          "2022-09-16 07:02:00",
          "2022-09-16 07:10:00",
          "2022-09-16 07:10:00",
          "2022-09-16 07:02:00"
         ],
         "y": [
          1.8,
          1.8,
          2.2,
          2.2,
          null,
          0.8,
          0.8,
          1.2,
          1.2,
          null,
          -0.2,
          -0.2,
          0.2,
          0.2
         ]
        },
        {
         "fill": "toself",
         "fillcolor": "rgb(60, 225, 166)",
         "hoverinfo": "name",
         "legendgroup": "rgb(60, 225, 166)",
         "mode": "none",
         "name": "job 1",
         "showlegend": true,
         "type": "scatter",
         "x": [
          "2022-09-16 07:09:00",
          "2022-09-16 07:14:00",
          "2022-09-16 07:14:00",
          "2022-09-16 07:09:00",
          "2022-09-16 07:09:00",
          "2022-09-16 07:00:00",
          "2022-09-16 07:07:00",
          "2022-09-16 07:07:00",
          "2022-09-16 07:00:00",
          "2022-09-16 07:00:00",
          "2022-09-16 07:14:00",
          "2022-09-16 07:24:00",
          "2022-09-16 07:24:00",
          "2022-09-16 07:14:00"
         ],
         "y": [
          1.8,
          1.8,
          2.2,
          2.2,
          null,
          0.8,
          0.8,
          1.2,
          1.2,
          null,
          -0.2,
          -0.2,
          0.2,
          0.2
         ]
        },
        {
         "fill": "toself",
         "fillcolor": "rgb(86, 166, 213)",
         "hoverinfo": "name",
         "legendgroup": "rgb(86, 166, 213)",
         "mode": "none",
         "name": "job 2",
         "showlegend": true,
         "type": "scatter",
         "x": [
          "2022-09-16 07:00:00",
          "2022-09-16 07:09:00",
          "2022-09-16 07:09:00",
          "2022-09-16 07:00:00",
          "2022-09-16 07:00:00",
          "2022-09-16 07:22:00",
          "2022-09-16 07:27:00",
          "2022-09-16 07:27:00",
          "2022-09-16 07:22:00",
          "2022-09-16 07:22:00",
          "2022-09-16 07:28:00",
          "2022-09-16 07:31:00",
          "2022-09-16 07:31:00",
          "2022-09-16 07:28:00"
         ],
         "y": [
          1.8,
          1.8,
          2.2,
          2.2,
          null,
          0.8,
          0.8,
          1.2,
          1.2,
          null,
          -0.2,
          -0.2,
          0.2,
          0.2
         ]
        },
        {
         "fill": "toself",
         "fillcolor": "rgb(96, 239, 86)",
         "hoverinfo": "name",
         "legendgroup": "rgb(96, 239, 86)",
         "mode": "none",
         "name": "job 4",
         "showlegend": true,
         "type": "scatter",
         "x": [
          "2022-09-16 07:22:00",
          "2022-09-16 07:24:00",
          "2022-09-16 07:24:00",
          "2022-09-16 07:22:00",
          "2022-09-16 07:22:00",
          "2022-09-16 07:07:00",
          "2022-09-16 07:14:00",
          "2022-09-16 07:14:00",
          "2022-09-16 07:07:00",
          "2022-09-16 07:07:00",
          "2022-09-16 07:24:00",
          "2022-09-16 07:28:00",
          "2022-09-16 07:28:00",
          "2022-09-16 07:24:00"
         ],
         "y": [
          1.8,
          1.8,
          2.2,
          2.2,
          null,
          0.8,
          0.8,
          1.2,
          1.2,
          null,
          -0.2,
          -0.2,
          0.2,
          0.2
         ]
        },
        {
         "legendgroup": "rgb(127, 37, 194)",
         "marker": {
          "color": "rgb(127, 37, 194)",
          "opacity": 0,
          "size": 1
         },
         "mode": "markers",
         "name": "",
         "showlegend": false,
         "text": [
          null,
          null,
          null,
          null,
          null,
          null
         ],
         "type": "scatter",
         "x": [
          "2022-09-16 07:24:00",
          "2022-09-16 07:29:00",
          "2022-09-16 07:14:00",
          "2022-09-16 07:22:00",
          "2022-09-16 07:00:00",
          "2022-09-16 07:02:00"
         ],
         "y": [
          2,
          2,
          1,
          1,
          0,
          0
         ]
        },
        {
         "legendgroup": "rgb(151, 162, 180)",
         "marker": {
          "color": "rgb(151, 162, 180)",
          "opacity": 0,
          "size": 1
         },
         "mode": "markers",
         "name": "",
         "showlegend": false,
         "text": [
          null,
          null,
          null,
          null,
          null,
          null
         ],
         "type": "scatter",
         "x": [
          "2022-09-16 07:14:00",
          "2022-09-16 07:22:00",
          "2022-09-16 07:27:00",
          "2022-09-16 07:35:00",
          "2022-09-16 07:02:00",
          "2022-09-16 07:10:00"
         ],
         "y": [
          2,
          2,
          1,
          1,
          0,
          0
         ]
        },
        {
         "legendgroup": "rgb(60, 225, 166)",
         "marker": {
          "color": "rgb(60, 225, 166)",
          "opacity": 0,
          "size": 1
         },
         "mode": "markers",
         "name": "",
         "showlegend": false,
         "text": [
          null,
          null,
          null,
          null,
          null,
          null
         ],
         "type": "scatter",
         "x": [
          "2022-09-16 07:09:00",
          "2022-09-16 07:14:00",
          "2022-09-16 07:00:00",
          "2022-09-16 07:07:00",
          "2022-09-16 07:14:00",
          "2022-09-16 07:24:00"
         ],
         "y": [
          2,
          2,
          1,
          1,
          0,
          0
         ]
        },
        {
         "legendgroup": "rgb(86, 166, 213)",
         "marker": {
          "color": "rgb(86, 166, 213)",
          "opacity": 0,
          "size": 1
         },
         "mode": "markers",
         "name": "",
         "showlegend": false,
         "text": [
          null,
          null,
          null,
          null,
          null,
          null
         ],
         "type": "scatter",
         "x": [
          "2022-09-16 07:00:00",
          "2022-09-16 07:09:00",
          "2022-09-16 07:22:00",
          "2022-09-16 07:27:00",
          "2022-09-16 07:28:00",
          "2022-09-16 07:31:00"
         ],
         "y": [
          2,
          2,
          1,
          1,
          0,
          0
         ]
        },
        {
         "legendgroup": "rgb(96, 239, 86)",
         "marker": {
          "color": "rgb(96, 239, 86)",
          "opacity": 0,
          "size": 1
         },
         "mode": "markers",
         "name": "",
         "showlegend": false,
         "text": [
          null,
          null,
          null,
          null,
          null,
          null
         ],
         "type": "scatter",
         "x": [
          "2022-09-16 07:22:00",
          "2022-09-16 07:24:00",
          "2022-09-16 07:07:00",
          "2022-09-16 07:14:00",
          "2022-09-16 07:24:00",
          "2022-09-16 07:28:00"
         ],
         "y": [
          2,
          2,
          1,
          1,
          0,
          0
         ]
        }
       ],
       "layout": {
        "height": 600,
        "hovermode": "closest",
        "showlegend": true,
        "template": {
         "data": {
          "bar": [
           {
            "error_x": {
             "color": "#2a3f5f"
            },
            "error_y": {
             "color": "#2a3f5f"
            },
            "marker": {
             "line": {
              "color": "#E5ECF6",
              "width": 0.5
             },
             "pattern": {
              "fillmode": "overlay",
              "size": 10,
              "solidity": 0.2
             }
            },
            "type": "bar"
           }
          ],
          "barpolar": [
           {
            "marker": {
             "line": {
              "color": "#E5ECF6",
              "width": 0.5
             },
             "pattern": {
              "fillmode": "overlay",
              "size": 10,
              "solidity": 0.2
             }
            },
            "type": "barpolar"
           }
          ],
          "carpet": [
           {
            "aaxis": {
             "endlinecolor": "#2a3f5f",
             "gridcolor": "white",
             "linecolor": "white",
             "minorgridcolor": "white",
             "startlinecolor": "#2a3f5f"
            },
            "baxis": {
             "endlinecolor": "#2a3f5f",
             "gridcolor": "white",
             "linecolor": "white",
             "minorgridcolor": "white",
             "startlinecolor": "#2a3f5f"
            },
            "type": "carpet"
           }
          ],
          "choropleth": [
           {
            "colorbar": {
             "outlinewidth": 0,
             "ticks": ""
            },
            "type": "choropleth"
           }
          ],
          "contour": [
           {
            "colorbar": {
             "outlinewidth": 0,
             "ticks": ""
            },
            "colorscale": [
             [
              0,
              "#0d0887"
             ],
             [
              0.1111111111111111,
              "#46039f"
             ],
             [
              0.2222222222222222,
              "#7201a8"
             ],
             [
              0.3333333333333333,
              "#9c179e"
             ],
             [
              0.4444444444444444,
              "#bd3786"
             ],
             [
              0.5555555555555556,
              "#d8576b"
             ],
             [
              0.6666666666666666,
              "#ed7953"
             ],
             [
              0.7777777777777778,
              "#fb9f3a"
             ],
             [
              0.8888888888888888,
              "#fdca26"
             ],
             [
              1,
              "#f0f921"
             ]
            ],
            "type": "contour"
           }
          ],
          "contourcarpet": [
           {
            "colorbar": {
             "outlinewidth": 0,
             "ticks": ""
            },
            "type": "contourcarpet"
           }
          ],
          "heatmap": [
           {
            "colorbar": {
             "outlinewidth": 0,
             "ticks": ""
            },
            "colorscale": [
             [
              0,
              "#0d0887"
             ],
             [
              0.1111111111111111,
              "#46039f"
             ],
             [
              0.2222222222222222,
              "#7201a8"
             ],
             [
              0.3333333333333333,
              "#9c179e"
             ],
             [
              0.4444444444444444,
              "#bd3786"
             ],
             [
              0.5555555555555556,
              "#d8576b"
             ],
             [
              0.6666666666666666,
              "#ed7953"
             ],
             [
              0.7777777777777778,
              "#fb9f3a"
             ],
             [
              0.8888888888888888,
              "#fdca26"
             ],
             [
              1,
              "#f0f921"
             ]
            ],
            "type": "heatmap"
           }
          ],
          "heatmapgl": [
           {
            "colorbar": {
             "outlinewidth": 0,
             "ticks": ""
            },
            "colorscale": [
             [
              0,
              "#0d0887"
             ],
             [
              0.1111111111111111,
              "#46039f"
             ],
             [
              0.2222222222222222,
              "#7201a8"
             ],
             [
              0.3333333333333333,
              "#9c179e"
             ],
             [
              0.4444444444444444,
              "#bd3786"
             ],
             [
              0.5555555555555556,
              "#d8576b"
             ],
             [
              0.6666666666666666,
              "#ed7953"
             ],
             [
              0.7777777777777778,
              "#fb9f3a"
             ],
             [
              0.8888888888888888,
              "#fdca26"
             ],
             [
              1,
              "#f0f921"
             ]
            ],
            "type": "heatmapgl"
           }
          ],
          "histogram": [
           {
            "marker": {
             "pattern": {
              "fillmode": "overlay",
              "size": 10,
              "solidity": 0.2
             }
            },
            "type": "histogram"
           }
          ],
          "histogram2d": [
           {
            "colorbar": {
             "outlinewidth": 0,
             "ticks": ""
            },
            "colorscale": [
             [
              0,
              "#0d0887"
             ],
             [
              0.1111111111111111,
              "#46039f"
             ],
             [
              0.2222222222222222,
              "#7201a8"
             ],
             [
              0.3333333333333333,
              "#9c179e"
             ],
             [
              0.4444444444444444,
              "#bd3786"
             ],
             [
              0.5555555555555556,
              "#d8576b"
             ],
             [
              0.6666666666666666,
              "#ed7953"
             ],
             [
              0.7777777777777778,
              "#fb9f3a"
             ],
             [
              0.8888888888888888,
              "#fdca26"
             ],
             [
              1,
              "#f0f921"
             ]
            ],
            "type": "histogram2d"
           }
          ],
          "histogram2dcontour": [
           {
            "colorbar": {
             "outlinewidth": 0,
             "ticks": ""
            },
            "colorscale": [
             [
              0,
              "#0d0887"
             ],
             [
              0.1111111111111111,
              "#46039f"
             ],
             [
              0.2222222222222222,
              "#7201a8"
             ],
             [
              0.3333333333333333,
              "#9c179e"
             ],
             [
              0.4444444444444444,
              "#bd3786"
             ],
             [
              0.5555555555555556,
              "#d8576b"
             ],
             [
              0.6666666666666666,
              "#ed7953"
             ],
             [
              0.7777777777777778,
              "#fb9f3a"
             ],
             [
              0.8888888888888888,
              "#fdca26"
             ],
             [
              1,
              "#f0f921"
             ]
            ],
            "type": "histogram2dcontour"
           }
          ],
          "mesh3d": [
           {
            "colorbar": {
             "outlinewidth": 0,
             "ticks": ""
            },
            "type": "mesh3d"
           }
          ],
          "parcoords": [
           {
            "line": {
             "colorbar": {
              "outlinewidth": 0,
              "ticks": ""
             }
            },
            "type": "parcoords"
           }
          ],
          "pie": [
           {
            "automargin": true,
            "type": "pie"
           }
          ],
          "scatter": [
           {
            "marker": {
             "colorbar": {
              "outlinewidth": 0,
              "ticks": ""
             }
            },
            "type": "scatter"
           }
          ],
          "scatter3d": [
           {
            "line": {
             "colorbar": {
              "outlinewidth": 0,
              "ticks": ""
             }
            },
            "marker": {
             "colorbar": {
              "outlinewidth": 0,
              "ticks": ""
             }
            },
            "type": "scatter3d"
           }
          ],
          "scattercarpet": [
           {
            "marker": {
             "colorbar": {
              "outlinewidth": 0,
              "ticks": ""
             }
            },
            "type": "scattercarpet"
           }
          ],
          "scattergeo": [
           {
            "marker": {
             "colorbar": {
              "outlinewidth": 0,
              "ticks": ""
             }
            },
            "type": "scattergeo"
           }
          ],
          "scattergl": [
           {
            "marker": {
             "colorbar": {
              "outlinewidth": 0,
              "ticks": ""
             }
            },
            "type": "scattergl"
           }
          ],
          "scattermapbox": [
           {
            "marker": {
             "colorbar": {
              "outlinewidth": 0,
              "ticks": ""
             }
            },
            "type": "scattermapbox"
           }
          ],
          "scatterpolar": [
           {
            "marker": {
             "colorbar": {
              "outlinewidth": 0,
              "ticks": ""
             }
            },
            "type": "scatterpolar"
           }
          ],
          "scatterpolargl": [
           {
            "marker": {
             "colorbar": {
              "outlinewidth": 0,
              "ticks": ""
             }
            },
            "type": "scatterpolargl"
           }
          ],
          "scatterternary": [
           {
            "marker": {
             "colorbar": {
              "outlinewidth": 0,
              "ticks": ""
             }
            },
            "type": "scatterternary"
           }
          ],
          "surface": [
           {
            "colorbar": {
             "outlinewidth": 0,
             "ticks": ""
            },
            "colorscale": [
             [
              0,
              "#0d0887"
             ],
             [
              0.1111111111111111,
              "#46039f"
             ],
             [
              0.2222222222222222,
              "#7201a8"
             ],
             [
              0.3333333333333333,
              "#9c179e"
             ],
             [
              0.4444444444444444,
              "#bd3786"
             ],
             [
              0.5555555555555556,
              "#d8576b"
             ],
             [
              0.6666666666666666,
              "#ed7953"
             ],
             [
              0.7777777777777778,
              "#fb9f3a"
             ],
             [
              0.8888888888888888,
              "#fdca26"
             ],
             [
              1,
              "#f0f921"
             ]
            ],
            "type": "surface"
           }
          ],
          "table": [
           {
            "cells": {
             "fill": {
              "color": "#EBF0F8"
             },
             "line": {
              "color": "white"
             }
            },
            "header": {
             "fill": {
              "color": "#C8D4E3"
             },
             "line": {
              "color": "white"
             }
            },
            "type": "table"
           }
          ]
         },
         "layout": {
          "annotationdefaults": {
           "arrowcolor": "#2a3f5f",
           "arrowhead": 0,
           "arrowwidth": 1
          },
          "autotypenumbers": "strict",
          "coloraxis": {
           "colorbar": {
            "outlinewidth": 0,
            "ticks": ""
           }
          },
          "colorscale": {
           "diverging": [
            [
             0,
             "#8e0152"
            ],
            [
             0.1,
             "#c51b7d"
            ],
            [
             0.2,
             "#de77ae"
            ],
            [
             0.3,
             "#f1b6da"
            ],
            [
             0.4,
             "#fde0ef"
            ],
            [
             0.5,
             "#f7f7f7"
            ],
            [
             0.6,
             "#e6f5d0"
            ],
            [
             0.7,
             "#b8e186"
            ],
            [
             0.8,
             "#7fbc41"
            ],
            [
             0.9,
             "#4d9221"
            ],
            [
             1,
             "#276419"
            ]
           ],
           "sequential": [
            [
             0,
             "#0d0887"
            ],
            [
             0.1111111111111111,
             "#46039f"
            ],
            [
             0.2222222222222222,
             "#7201a8"
            ],
            [
             0.3333333333333333,
             "#9c179e"
            ],
            [
             0.4444444444444444,
             "#bd3786"
            ],
            [
             0.5555555555555556,
             "#d8576b"
            ],
            [
             0.6666666666666666,
             "#ed7953"
            ],
            [
             0.7777777777777778,
             "#fb9f3a"
            ],
            [
             0.8888888888888888,
             "#fdca26"
            ],
            [
             1,
             "#f0f921"
            ]
           ],
           "sequentialminus": [
            [
             0,
             "#0d0887"
            ],
            [
             0.1111111111111111,
             "#46039f"
            ],
            [
             0.2222222222222222,
             "#7201a8"
            ],
            [
             0.3333333333333333,
             "#9c179e"
            ],
            [
             0.4444444444444444,
             "#bd3786"
            ],
            [
             0.5555555555555556,
             "#d8576b"
            ],
            [
             0.6666666666666666,
             "#ed7953"
            ],
            [
             0.7777777777777778,
             "#fb9f3a"
            ],
            [
             0.8888888888888888,
             "#fdca26"
            ],
            [
             1,
             "#f0f921"
            ]
           ]
          },
          "colorway": [
           "#636efa",
           "#EF553B",
           "#00cc96",
           "#ab63fa",
           "#FFA15A",
           "#19d3f3",
           "#FF6692",
           "#B6E880",
           "#FF97FF",
           "#FECB52"
          ],
          "font": {
           "color": "#2a3f5f"
          },
          "geo": {
           "bgcolor": "white",
           "lakecolor": "white",
           "landcolor": "#E5ECF6",
           "showlakes": true,
           "showland": true,
           "subunitcolor": "white"
          },
          "hoverlabel": {
           "align": "left"
          },
          "hovermode": "closest",
          "mapbox": {
           "style": "light"
          },
          "paper_bgcolor": "white",
          "plot_bgcolor": "#E5ECF6",
          "polar": {
           "angularaxis": {
            "gridcolor": "white",
            "linecolor": "white",
            "ticks": ""
           },
           "bgcolor": "#E5ECF6",
           "radialaxis": {
            "gridcolor": "white",
            "linecolor": "white",
            "ticks": ""
           }
          },
          "scene": {
           "xaxis": {
            "backgroundcolor": "#E5ECF6",
            "gridcolor": "white",
            "gridwidth": 2,
            "linecolor": "white",
            "showbackground": true,
            "ticks": "",
            "zerolinecolor": "white"
           },
           "yaxis": {
            "backgroundcolor": "#E5ECF6",
            "gridcolor": "white",
            "gridwidth": 2,
            "linecolor": "white",
            "showbackground": true,
            "ticks": "",
            "zerolinecolor": "white"
           },
           "zaxis": {
            "backgroundcolor": "#E5ECF6",
            "gridcolor": "white",
            "gridwidth": 2,
            "linecolor": "white",
            "showbackground": true,
            "ticks": "",
            "zerolinecolor": "white"
           }
          },
          "shapedefaults": {
           "line": {
            "color": "#2a3f5f"
           }
          },
          "ternary": {
           "aaxis": {
            "gridcolor": "white",
            "linecolor": "white",
            "ticks": ""
           },
           "baxis": {
            "gridcolor": "white",
            "linecolor": "white",
            "ticks": ""
           },
           "bgcolor": "#E5ECF6",
           "caxis": {
            "gridcolor": "white",
            "linecolor": "white",
            "ticks": ""
           }
          },
          "title": {
           "x": 0.05
          },
          "xaxis": {
           "automargin": true,
           "gridcolor": "white",
           "linecolor": "white",
           "ticks": "",
           "title": {
            "standoff": 15
           },
           "zerolinecolor": "white",
           "zerolinewidth": 2
          },
          "yaxis": {
           "automargin": true,
           "gridcolor": "white",
           "linecolor": "white",
           "ticks": "",
           "title": {
            "standoff": 15
           },
           "zerolinecolor": "white",
           "zerolinewidth": 2
          }
         }
        },
        "title": {
         "text": "JOB SHOP SCHEDULING - OPTIMUS SOLUTIONS LTDA "
        },
        "xaxis": {
         "rangeselector": {
          "buttons": [
           {
            "count": 7,
            "label": "1w",
            "step": "day",
            "stepmode": "backward"
           },
           {
            "count": 1,
            "label": "1m",
            "step": "month",
            "stepmode": "backward"
           },
           {
            "count": 6,
            "label": "6m",
            "step": "month",
            "stepmode": "backward"
           },
           {
            "count": 1,
            "label": "YTD",
            "step": "year",
            "stepmode": "todate"
           },
           {
            "count": 1,
            "label": "1y",
            "step": "year",
            "stepmode": "backward"
           },
           {
            "step": "all"
           }
          ]
         },
         "showgrid": true,
         "type": "date",
         "zeroline": false
        },
        "yaxis": {
         "autorange": false,
         "range": [
          -1,
          4
         ],
         "showgrid": false,
         "ticktext": [
          "maq 3",
          "maq 2",
          "maq 1"
         ],
         "tickvals": [
          0,
          1,
          2
         ],
         "zeroline": false
        }
       }
      }
     },
     "metadata": {},
     "output_type": "display_data"
    }
   ],
   "source": [
    "#Impressao do Gantt\n",
    "\n",
    "df = []\n",
    "colors =[]\n",
    "for i in range(n):\n",
    "    for j in range(m):\n",
    "        s = str(datetime.datetime.strptime('2022-09-16 07:00:00', \"%Y-%m-%d %H:%M:%S\") + datetime.timedelta(minutes=np.float64(X[i][j].x) ))\n",
    "        d = datetime.datetime.strptime(s, \"%Y-%m-%d %H:%M:%S\")  + datetime.timedelta(minutes=np.float64(tempos_Proc[i][j]))\n",
    "        df.append(dict(Task=str(\"maq \"+str(j+1)), Start=str(s), Finish=str(d), Resource=str(\"job \"+str(i+1))))\n",
    "        r = lambda: random.randint(0,255)\n",
    "        colors.append('#%02X%02X%02X' % (r(),r(),r()))\n",
    "\n",
    "\n",
    "\n",
    "fig = ff.create_gantt(df, colors = colors, index_col='Resource', title = \"JOB SHOP SCHEDULING - OPTIMUS SOLUTIONS LTDA \",show_colorbar=True, group_tasks=True,showgrid_x =True)    \n",
    "fig.show()\n"
   ]
  }
 ],
 "metadata": {
  "kernelspec": {
   "display_name": "Python 3.9.12 64-bit",
   "language": "python",
   "name": "python3"
  },
  "language_info": {
   "codemirror_mode": {
    "name": "ipython",
    "version": 3
   },
   "file_extension": ".py",
   "mimetype": "text/x-python",
   "name": "python",
   "nbconvert_exporter": "python",
   "pygments_lexer": "ipython3",
   "version": "3.9.12"
  },
  "orig_nbformat": 4,
  "vscode": {
   "interpreter": {
    "hash": "bdf60064ca17e34e6447c42ffc4d1bdbbb685bef12fe6354d40c5de0a529b5a2"
   }
  }
 },
 "nbformat": 4,
 "nbformat_minor": 2
}

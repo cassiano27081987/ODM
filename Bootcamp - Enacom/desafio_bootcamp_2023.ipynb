{
 "cells": [
  {
   "cell_type": "code",
   "execution_count": 24,
   "metadata": {},
   "outputs": [],
   "source": [
    "# Código do modelo matemático - Desafio Bootcamp - Enacom\n",
    "# Autoria: Cassiano Tavares"
   ]
  },
  {
   "cell_type": "code",
   "execution_count": 25,
   "metadata": {},
   "outputs": [
    {
     "name": "stdout",
     "output_type": "stream",
     "text": [
      "Bibliotecas instaladas\n"
     ]
    }
   ],
   "source": [
    "# Verificação se todas as bibliotecas necessárias estão instaladas. Caso contrário, ~\\\n",
    "# esta célula irá realizar a instalação das bibliotecas ainda nao instaladas\n",
    "\n",
    "import pip\n",
    "\n",
    "def import_or_install(pac):\n",
    "    try:\n",
    "        __import__(pac)\n",
    "    except ImportError:\n",
    "        pip.main(['install', pac])    \n",
    "\n",
    "bibliotecas = [\"tkinter\", \"pandas\", \"numpy\", \"math\", \"datetime\",\"io\",\"pyomo\",\"re\",\"collections\",\"plotly.express\",\"plotly.graph_objects\"]\n",
    "\n",
    "\n",
    "for b in bibliotecas:\n",
    "    import_or_install(b)\n",
    "\n",
    "print(\"Bibliotecas instaladas\")"
   ]
  },
  {
   "cell_type": "code",
   "execution_count": 26,
   "metadata": {},
   "outputs": [],
   "source": [
    "# Carrega as bibliotecas do Python\n",
    "from tkinter import E\n",
    "import pandas as pd\n",
    "import numpy as np\n",
    "import math\n",
    "#from google.colab import files\n",
    "import datetime\n",
    "import io\n",
    "import pyomo.environ as pyo\n",
    "from pyomo.environ import *\n",
    "from pyomo.opt import SolverFactory\n",
    "import re\n",
    "import sys                             \n",
    "from collections import defaultdict\n",
    "import plotly.express as px\n",
    "import plotly.graph_objects as go"
   ]
  },
  {
   "cell_type": "code",
   "execution_count": 27,
   "metadata": {},
   "outputs": [],
   "source": [
    "# Define o arquivo com dados de entrada\n",
    "nome_input = 'dados_desafio_2023.xlsx'"
   ]
  },
  {
   "cell_type": "code",
   "execution_count": 28,
   "metadata": {},
   "outputs": [
    {
     "name": "stdout",
     "output_type": "stream",
     "text": [
      "   Opção                                     Descrição  \\\n",
      "0      1  Ampliação da capacidade do armazém ZPD em 5%   \n",
      "1      2  Ampliação da capacidade do armazém MGL em 7%   \n",
      "2      3                       Compra de empilhadeiras   \n",
      "3      4                             Projetos de P&D I   \n",
      "4      5                            Projetos de P&D II   \n",
      "5      6               Aquisição de novos equipamentos   \n",
      "6      7                   Capacitação de funcionários   \n",
      "7      8    Ampliação da estrutura de carga rodoviária   \n",
      "\n",
      "   Custo do investimento (R$)  Retorno esperado (R$)  \n",
      "0                      470000                 410000  \n",
      "1                      400000                 330000  \n",
      "2                      170000                 140000  \n",
      "3                      270000                 250000  \n",
      "4                      340000                 320000  \n",
      "5                      230000                 320000  \n",
      "6                       50000                  90000  \n",
      "7                      440000                 190000  \n"
     ]
    }
   ],
   "source": [
    "# Lê os dados de entrada como data frames\n",
    "\n",
    "# Carteira de Investimentos (IGNORA LINHAS COM CÉLULAS EM BRANCO)\n",
    "df_carteira_investimentos  = pd.read_excel(nome_input, sheet_name='dados_desafio').dropna()\n",
    "\n",
    "print(df_carteira_investimentos)"
   ]
  },
  {
   "cell_type": "code",
   "execution_count": 29,
   "metadata": {},
   "outputs": [
    {
     "name": "stdout",
     "output_type": "stream",
     "text": [
      "Este é o conjunto de opções investimentos\n",
      "{0: 1, 1: 2, 2: 3, 3: 4, 4: 5, 5: 6, 6: 7, 7: 8}\n"
     ]
    }
   ],
   "source": [
    "# Criação dos conjuntos\n",
    "\n",
    "\n",
    "# Criação do conjunto de opções invenstimentos\n",
    "dict_I = dict(enumerate(df_carteira_investimentos[\"Opção\"]))\n",
    "print(\"Este é o conjunto de opções investimentos\")\n",
    "print(dict_I)\n"
   ]
  },
  {
   "cell_type": "code",
   "execution_count": 30,
   "metadata": {},
   "outputs": [
    {
     "name": "stdout",
     "output_type": "stream",
     "text": [
      "[470000, 400000, 170000, 270000, 340000, 230000, 50000, 440000]\n"
     ]
    }
   ],
   "source": [
    "#Criação do parâmetro c_{i} - Custo de investimento do projeto\n",
    "\n",
    "\n",
    "# Inicializa a matriz com zeros\n",
    "c_i = [0 for e in dict_I.keys()]\n",
    "\n",
    "# Preenche as posições de acordo com df_carteira_investimentos\n",
    "for linha in df_carteira_investimentos.iterrows():\n",
    "    \n",
    "    # Extrai o conteúdo da linha atual\n",
    "    dados_linha = list(linha[1])\n",
    "    #print(dados_linha)\n",
    "\n",
    "\n",
    "    # Define o índice do projeto de investimento\n",
    "    try:\n",
    "        # Procura o índice na lista do projeto de investimento\n",
    "        i = list(dict_I.keys())[list(dict_I.values()).index(dados_linha[0])]  \n",
    "        c_i[i]= dados_linha[2]        \n",
    "    except:   \n",
    "        # Projeto de investimento não encontrado\n",
    "        i = -1\n",
    "\n",
    "\n",
    "print(c_i)"
   ]
  },
  {
   "cell_type": "code",
   "execution_count": 31,
   "metadata": {},
   "outputs": [
    {
     "name": "stdout",
     "output_type": "stream",
     "text": [
      "[410000, 330000, 140000, 250000, 320000, 320000, 90000, 190000]\n"
     ]
    }
   ],
   "source": [
    "#Criação do parâmetro vpl_{i} - VPL do projeto\n",
    "\n",
    "\n",
    "# Inicializa a matriz com zeros\n",
    "vpl_i = [0 for e in dict_I.keys()]\n",
    "\n",
    "# Preenche as posições de acordo com df_carteira_investimentos\n",
    "for linha in df_carteira_investimentos.iterrows():\n",
    "    \n",
    "    # Extrai o conteúdo da linha atual\n",
    "    dados_linha = list(linha[1])\n",
    "    #print(dados_linha)\n",
    "\n",
    "\n",
    "    # Define o índice do projeto de investimento\n",
    "    try:\n",
    "        # Procura o índice na lista do projeto de investimento\n",
    "        i = list(dict_I.keys())[list(dict_I.values()).index(dados_linha[0])]  \n",
    "        vpl_i[i]= dados_linha[3]        \n",
    "    except:   \n",
    "        # Projeto de investimento não encontrado\n",
    "        i = -1\n",
    "\n",
    "\n",
    "print(vpl_i)"
   ]
  },
  {
   "cell_type": "code",
   "execution_count": 32,
   "metadata": {},
   "outputs": [],
   "source": [
    "# Budget disponível para investimento\n",
    "M = 1.E+6"
   ]
  },
  {
   "cell_type": "code",
   "execution_count": 33,
   "metadata": {},
   "outputs": [
    {
     "name": "stdout",
     "output_type": "stream",
     "text": [
      "Este é o model.set_I\n",
      "dict_keys([0, 1, 2, 3, 4, 5, 6, 7])\n"
     ]
    }
   ],
   "source": [
    "# Criacao do modelo de otimização\n",
    "model = pyo.ConcreteModel()\n",
    "\n",
    "\n",
    "#Criação dos conjuntos do modelo de otimização\n",
    "\n",
    "# Conjunto de opções invenstimentos\n",
    "model.set_I = pyo.Set(initialize = dict_I.keys())\n",
    "print(\"Este é o model.set_I\")\n",
    "print(dict_I.keys())"
   ]
  },
  {
   "cell_type": "code",
   "execution_count": 34,
   "metadata": {},
   "outputs": [],
   "source": [
    "#Criação da variável de decisão\n",
    "\n",
    "\n",
    "# Variaáel de decisão: 1 se o projeto de investimento é selecionado\n",
    "model.Y = pyo.Var(model.set_I, within=Binary)\n",
    "Y = model.Y \n"
   ]
  },
  {
   "cell_type": "code",
   "execution_count": 35,
   "metadata": {},
   "outputs": [],
   "source": [
    "# Função objetivo do modelo\n",
    "model.exprobj = pyo.Expression()\n",
    "\n",
    "#Função que calcula o VPL de todos os projetos\n",
    "obj1 = sum(vpl_i[i]*Y[i] for i in model.set_I) \n",
    "\n",
    "\n",
    "# Função objetivo: \n",
    "model.exprobj =  obj1 \n",
    "\n",
    "model.obj = pyo.Objective(expr= model.exprobj, sense = pyo.maximize)"
   ]
  },
  {
   "cell_type": "code",
   "execution_count": 36,
   "metadata": {},
   "outputs": [
    {
     "data": {
      "text/plain": [
       "<pyomo.core.base.constraint._GeneralConstraintData at 0xd0f9b2d9a0>"
      ]
     },
     "execution_count": 36,
     "metadata": {},
     "output_type": "execute_result"
    }
   ],
   "source": [
    "#Restrição 02: Mochila\n",
    "\n",
    "model.C2 = pyo.ConstraintList()\n",
    "model.C2.add(expr=sum(Y[i]*c_i[i] for i in model.set_I) <= M)\n",
    "\n"
   ]
  },
  {
   "cell_type": "code",
   "execution_count": 37,
   "metadata": {},
   "outputs": [
    {
     "data": {
      "text/plain": [
       "<pyomo.core.base.constraint._GeneralConstraintData at 0xd0fe31c4c0>"
      ]
     },
     "execution_count": 37,
     "metadata": {},
     "output_type": "execute_result"
    }
   ],
   "source": [
    "#Restrição 03: Se o investimento 1 for selecionado, então o investimento 5 não deve ser\n",
    "\n",
    "model.C3a = pyo.ConstraintList()\n",
    "model.C3a.add(expr = Y[0] <= M*(1-Y[4]))\n",
    "\n",
    "model.C3b= pyo.ConstraintList()\n",
    "model.C3b.add(expr = Y[4] <= M*(Y[1]))"
   ]
  },
  {
   "cell_type": "code",
   "execution_count": 38,
   "metadata": {},
   "outputs": [
    {
     "data": {
      "text/plain": [
       "<pyomo.core.base.constraint._GeneralConstraintData at 0xd081341b80>"
      ]
     },
     "execution_count": 38,
     "metadata": {},
     "output_type": "execute_result"
    }
   ],
   "source": [
    "#Restrição 04: Se o investimento 2 for selecionado, então o investimento 4 também deve ser.\n",
    "\n",
    "model.C4 = pyo.ConstraintList()\n",
    "model.C4.add(expr = Y[1] <= Y[3])"
   ]
  },
  {
   "cell_type": "code",
   "execution_count": 39,
   "metadata": {},
   "outputs": [
    {
     "name": "stdout",
     "output_type": "stream",
     "text": [
      "GLPSOL--GLPK LP/MIP Solver 5.0\n",
      "Parameter(s) specified in the command line:\n",
      " --write C:\\Users\\CASSIA~1\\AppData\\Local\\Temp\\tmpdi60bi2d.glpk.raw --wglp\n",
      " C:\\Users\\CASSIA~1\\AppData\\Local\\Temp\\tmp2xiw_gfh.glpk.glp --cpxlp C:\\Users\\CASSIA~1\\AppData\\Local\\Temp\\tmpa9_jh7hn.pyomo.lp\n",
      "Reading problem data from 'C:\\Users\\CASSIA~1\\AppData\\Local\\Temp\\tmpa9_jh7hn.pyomo.lp'...\n",
      "C:\\Users\\CASSIA~1\\AppData\\Local\\Temp\\tmpa9_jh7hn.pyomo.lp:55: warning: lower bound of variable 'x1' redefined\n",
      "C:\\Users\\CASSIA~1\\AppData\\Local\\Temp\\tmpa9_jh7hn.pyomo.lp:55: warning: upper bound of variable 'x1' redefined\n",
      "5 rows, 9 columns, 15 non-zeros\n",
      "8 integer variables, all of which are binary\n",
      "63 lines were read\n",
      "Writing problem data to 'C:\\Users\\CASSIA~1\\AppData\\Local\\Temp\\tmp2xiw_gfh.glpk.glp'...\n",
      "46 lines were written\n",
      "GLPK Integer Optimizer 5.0\n",
      "5 rows, 9 columns, 15 non-zeros\n",
      "8 integer variables, all of which are binary\n",
      "Preprocessing...\n",
      "2 constraint coefficient(s) were reduced\n",
      "4 rows, 8 columns, 14 non-zeros\n",
      "8 integer variables, all of which are binary\n",
      "Scaling...\n",
      " A: min|aij| =  1.000e+00  max|aij| =  4.700e+05  ratio =  4.700e+05\n",
      "GM: min|aij| =  9.036e-01  max|aij| =  1.107e+00  ratio =  1.225e+00\n",
      "EQ: min|aij| =  8.216e-01  max|aij| =  1.000e+00  ratio =  1.217e+00\n",
      "2N: min|aij| =  5.000e-01  max|aij| =  1.000e+00  ratio =  2.000e+00\n",
      "Constructing initial basis...\n",
      "Size of triangular part is 4\n",
      "Solving LP relaxation...\n",
      "GLPK Simplex Optimizer 5.0\n",
      "4 rows, 8 columns, 14 non-zeros\n",
      "*     0: obj =  -0.000000000e+00 inf =   0.000e+00 (8)\n",
      "*     8: obj =   1.055270270e+06 inf =   0.000e+00 (0)\n",
      "OPTIMAL LP SOLUTION FOUND\n",
      "Integer optimization begins...\n",
      "Long-step dual simplex will be used\n",
      "+     8: mip =     not found yet <=              +inf        (1; 0)\n",
      "+    13: >>>>>   9.800000000e+05 <=   1.040000000e+06   6.1% (5; 0)\n",
      "+    15: >>>>>   9.900000000e+05 <=   1.030000000e+06   4.0% (3; 3)\n",
      "+    15: mip =   9.900000000e+05 <=     tree is empty   0.0% (0; 9)\n",
      "INTEGER OPTIMAL SOLUTION FOUND\n",
      "Time used:   0.0 secs\n",
      "Memory used: 0.1 Mb (64834 bytes)\n",
      "Writing MIP solution to 'C:\\Users\\CASSIA~1\\AppData\\Local\\Temp\\tmpdi60bi2d.glpk.raw'...\n",
      "23 lines were written\n",
      "Solution is feasible and optimal\n",
      "Objective function value =  990000.0\n"
     ]
    }
   ],
   "source": [
    "# Escreve modelo em arquivo no formato LP\n",
    "model.write('model.lp', io_options={'symbolic_solver_labels': True})\n",
    "\n",
    "# Seleciona o solver\n",
    "\n",
    "solver = pyo.SolverFactory('glpk')\n",
    "\n",
    "solution = solver.solve(model, tee=True)\n",
    "\n",
    "from pyomo.opt import SolverStatus, TerminationCondition\n",
    "\n",
    "if (solution.solver.status == SolverStatus.ok) and (solution.solver.termination_condition == TerminationCondition.optimal):\n",
    "    print(\"Solution is feasible and optimal\")\n",
    "    print(\"Objective function value = \", model.obj())\n",
    "\n",
    "elif solution.solver.termination_condition == TerminationCondition.infeasible:\n",
    "    print (\"Failed to find solution.\")\n",
    "else:\n",
    "    # something else is wrong\n",
    "    print(str(solution.solver))"
   ]
  },
  {
   "cell_type": "code",
   "execution_count": 40,
   "metadata": {},
   "outputs": [
    {
     "name": "stdout",
     "output_type": "stream",
     "text": [
      "Y[2] = 1.0\n",
      "Y[4] = 1.0\n",
      "Y[6] = 1.0\n",
      "Y[7] = 1.0\n"
     ]
    }
   ],
   "source": [
    "\n",
    "#Impressão da variável Y - Variável de decisão: 1 se o projeto i é selecionado para investimento\n",
    "\n",
    "for i in model.set_I:\n",
    "    if pyo.value(Y[i]) > 1.E-3:\n",
    "        print(f'Y[{i+1}] = {round(pyo.value(Y[i]),0)}')"
   ]
  },
  {
   "cell_type": "code",
   "execution_count": 41,
   "metadata": {},
   "outputs": [
    {
     "name": "stdout",
     "output_type": "stream",
     "text": [
      "   Projeto\n",
      "0        1\n",
      "1        3\n",
      "2        5\n",
      "3        6\n"
     ]
    }
   ],
   "source": [
    "# Lista construída iterativamente, que se tornará o DataFrame final de solução\n",
    "df_sol_Y = []\n",
    "\n",
    "\n",
    "for i in model.set_I:\n",
    "    if pyo.value(Y[i]) > 1.E-3:\n",
    "\n",
    "        # Valor da variável\n",
    "        #valor = round(X[i][j][t],2)\n",
    "\n",
    "        # Linha do DataFrame\n",
    "        dict_linha = {\n",
    "\n",
    "                    'Projeto': i ,\n",
    "                        }\n",
    "\n",
    "        # Guardando valor\n",
    "        df_sol_Y.append(dict_linha)\n",
    "\n",
    "# Criando DataFrame\n",
    "df_sol_Y = pd.DataFrame(df_sol_Y)\n",
    "df_sol_Y = df_sol_Y.sort_values(['Projeto'])\n",
    "\n",
    "df_sol_Y.index = list(range(len(df_sol_Y)))\n",
    "\n",
    "\n",
    "print(df_sol_Y)"
   ]
  },
  {
   "cell_type": "code",
   "execution_count": 42,
   "metadata": {},
   "outputs": [
    {
     "name": "stdout",
     "output_type": "stream",
     "text": [
      "['Ampliação da capacidade do armazém ZPD em 5%', 'Ampliação da capacidade do armazém MGL em 7%', 'Compra de empilhadeiras', 'Projetos de P&D I', 'Projetos de P&D II', 'Aquisição de novos equipamentos', 'Capacitação de funcionários', 'Ampliação da estrutura de carga rodoviária']\n"
     ]
    }
   ],
   "source": [
    "#Criação do vetor com os nomes dos projetos\n",
    "\n",
    "\n",
    "# Inicializa a matriz com zeros\n",
    "nome_i = [0 for e in dict_I.keys()]\n",
    "\n",
    "# Preenche as posições de acordo com df_carteira_investimentos\n",
    "for linha in df_carteira_investimentos.iterrows():\n",
    "    \n",
    "    # Extrai o conteúdo da linha atual\n",
    "    dados_linha = list(linha[1])\n",
    "    #print(dados_linha)\n",
    "\n",
    "\n",
    "    # Define o índice do projeto de investimento\n",
    "    try:\n",
    "        # Procura o índice na lista do projeto de investimento\n",
    "        i = list(dict_I.keys())[list(dict_I.values()).index(dados_linha[0])]  \n",
    "        nome_i[i]= dados_linha[1]        \n",
    "    except:   \n",
    "        # Projeto de investimento não encontrado\n",
    "        i = -1\n",
    "\n",
    "\n",
    "print(nome_i)"
   ]
  },
  {
   "cell_type": "code",
   "execution_count": 43,
   "metadata": {},
   "outputs": [
    {
     "name": "stdout",
     "output_type": "stream",
     "text": [
      "950000\n",
      "990000\n"
     ]
    }
   ],
   "source": [
    "#Manipulando DataFrame sol_Y para a construção de gráficos\n",
    "\n",
    "\n",
    "\n",
    "#Adicionando as colunas de custo do projeto, vpl do projeto e descrição do projeto\n",
    "\n",
    "# Coluna com os custos de cada projeto \n",
    "custo_projeto = []\n",
    "\n",
    "# Coluna com o vpl de cada projeto\n",
    "vpl_projeto = []\n",
    "\n",
    "# Coluna com o nome de cada projeto\n",
    "nome_projeto = []\n",
    "\n",
    "# Preenche as posições de acordo com df_sol_X\n",
    "for linha in df_sol_Y.iterrows():   \n",
    "    # Extrai o conteúdo da linha atual\n",
    "    dados_linha = list(linha[1])\n",
    "    #print(dados_linha)\n",
    "    custo_projeto.append(c_i[dados_linha[0]])\n",
    "    vpl_projeto.append(vpl_i[dados_linha[0]])\n",
    "    nome_projeto.append(nome_i[dados_linha[0]])\n",
    "\n",
    "# Adicionanado a coluna com os custos de cada projeto no Dataframe da solução\n",
    "df_sol_Y[\"Custo realizado\"] = [elemento for elemento in custo_projeto]\n",
    "\n",
    "# Adicionanado a coluna com o VPL de cada projeto no Dataframe da solução\n",
    "df_sol_Y[\"VPL realizado\"] = [elemento for elemento in vpl_projeto]\n",
    "\n",
    "# Adicionanado a coluna com os nomes de cada projeto no Dataframe da solução\n",
    "df_sol_Y[\"Nome do Projeto\"] = [elemento for elemento in nome_projeto]\n",
    "\n",
    "# Cálculo do total investido\n",
    "total_investido = np.sum(custo_projeto)\n",
    "\n",
    "print(total_investido)\n",
    "\n",
    "# Calculo do VPL total esperado\n",
    "vpl_total = np.sum(vpl_projeto)\n",
    "\n",
    "print(vpl_total)"
   ]
  },
  {
   "cell_type": "code",
   "execution_count": 44,
   "metadata": {},
   "outputs": [
    {
     "data": {
      "application/vnd.plotly.v1+json": {
       "config": {
        "plotlyServerURL": "https://plot.ly"
       },
       "data": [
        {
         "alignmentgroup": "True",
         "hovertemplate": "Nome do Projeto=%{x}<br>Custo realizado=%{text}<extra></extra>",
         "legendgroup": "Ampliação da capacidade do armazém MGL em 7%",
         "marker": {
          "color": "#636efa",
          "pattern": {
           "shape": ""
          }
         },
         "name": "Ampliação da capacidade do armazém MGL em 7%",
         "offsetgroup": "Ampliação da capacidade do armazém MGL em 7%",
         "orientation": "v",
         "showlegend": true,
         "text": [
          400000
         ],
         "textposition": "auto",
         "type": "bar",
         "x": [
          "Ampliação da capacidade do armazém MGL em 7%"
         ],
         "xaxis": "x",
         "y": [
          400000
         ],
         "yaxis": "y"
        },
        {
         "alignmentgroup": "True",
         "hovertemplate": "Nome do Projeto=%{x}<br>Custo realizado=%{text}<extra></extra>",
         "legendgroup": "Projetos de P&D I",
         "marker": {
          "color": "#EF553B",
          "pattern": {
           "shape": ""
          }
         },
         "name": "Projetos de P&D I",
         "offsetgroup": "Projetos de P&D I",
         "orientation": "v",
         "showlegend": true,
         "text": [
          270000
         ],
         "textposition": "auto",
         "type": "bar",
         "x": [
          "Projetos de P&D I"
         ],
         "xaxis": "x",
         "y": [
          270000
         ],
         "yaxis": "y"
        },
        {
         "alignmentgroup": "True",
         "hovertemplate": "Nome do Projeto=%{x}<br>Custo realizado=%{text}<extra></extra>",
         "legendgroup": "Aquisição de novos equipamentos",
         "marker": {
          "color": "#00cc96",
          "pattern": {
           "shape": ""
          }
         },
         "name": "Aquisição de novos equipamentos",
         "offsetgroup": "Aquisição de novos equipamentos",
         "orientation": "v",
         "showlegend": true,
         "text": [
          230000
         ],
         "textposition": "auto",
         "type": "bar",
         "x": [
          "Aquisição de novos equipamentos"
         ],
         "xaxis": "x",
         "y": [
          230000
         ],
         "yaxis": "y"
        },
        {
         "alignmentgroup": "True",
         "hovertemplate": "Nome do Projeto=%{x}<br>Custo realizado=%{text}<extra></extra>",
         "legendgroup": "Capacitação de funcionários",
         "marker": {
          "color": "#ab63fa",
          "pattern": {
           "shape": ""
          }
         },
         "name": "Capacitação de funcionários",
         "offsetgroup": "Capacitação de funcionários",
         "orientation": "v",
         "showlegend": true,
         "text": [
          50000
         ],
         "textposition": "auto",
         "type": "bar",
         "x": [
          "Capacitação de funcionários"
         ],
         "xaxis": "x",
         "y": [
          50000
         ],
         "yaxis": "y"
        },
        {
         "line": {
          "color": "royalblue",
          "dash": "dot",
          "width": 2
         },
         "name": "Custo total investido",
         "type": "scatter",
         "x": [
          "Ampliação da capacidade do armazém MGL em 7%",
          "Projetos de P&D I",
          "Aquisição de novos equipamentos",
          "Capacitação de funcionários"
         ],
         "y": [
          950000,
          950000,
          950000,
          950000
         ]
        },
        {
         "line": {
          "color": "firebrick",
          "dash": "dot",
          "width": 2
         },
         "name": "Budget para investimento",
         "type": "scatter",
         "x": [
          "Ampliação da capacidade do armazém MGL em 7%",
          "Projetos de P&D I",
          "Aquisição de novos equipamentos",
          "Capacitação de funcionários"
         ],
         "y": [
          1000000,
          1000000,
          1000000,
          1000000
         ]
        }
       ],
       "layout": {
        "barmode": "relative",
        "legend": {
         "title": {
          "text": "Nome do Projeto"
         },
         "tracegroupgap": 0
        },
        "template": {
         "data": {
          "bar": [
           {
            "error_x": {
             "color": "#2a3f5f"
            },
            "error_y": {
             "color": "#2a3f5f"
            },
            "marker": {
             "line": {
              "color": "#E5ECF6",
              "width": 0.5
             },
             "pattern": {
              "fillmode": "overlay",
              "size": 10,
              "solidity": 0.2
             }
            },
            "type": "bar"
           }
          ],
          "barpolar": [
           {
            "marker": {
             "line": {
              "color": "#E5ECF6",
              "width": 0.5
             },
             "pattern": {
              "fillmode": "overlay",
              "size": 10,
              "solidity": 0.2
             }
            },
            "type": "barpolar"
           }
          ],
          "carpet": [
           {
            "aaxis": {
             "endlinecolor": "#2a3f5f",
             "gridcolor": "white",
             "linecolor": "white",
             "minorgridcolor": "white",
             "startlinecolor": "#2a3f5f"
            },
            "baxis": {
             "endlinecolor": "#2a3f5f",
             "gridcolor": "white",
             "linecolor": "white",
             "minorgridcolor": "white",
             "startlinecolor": "#2a3f5f"
            },
            "type": "carpet"
           }
          ],
          "choropleth": [
           {
            "colorbar": {
             "outlinewidth": 0,
             "ticks": ""
            },
            "type": "choropleth"
           }
          ],
          "contour": [
           {
            "colorbar": {
             "outlinewidth": 0,
             "ticks": ""
            },
            "colorscale": [
             [
              0,
              "#0d0887"
             ],
             [
              0.1111111111111111,
              "#46039f"
             ],
             [
              0.2222222222222222,
              "#7201a8"
             ],
             [
              0.3333333333333333,
              "#9c179e"
             ],
             [
              0.4444444444444444,
              "#bd3786"
             ],
             [
              0.5555555555555556,
              "#d8576b"
             ],
             [
              0.6666666666666666,
              "#ed7953"
             ],
             [
              0.7777777777777778,
              "#fb9f3a"
             ],
             [
              0.8888888888888888,
              "#fdca26"
             ],
             [
              1,
              "#f0f921"
             ]
            ],
            "type": "contour"
           }
          ],
          "contourcarpet": [
           {
            "colorbar": {
             "outlinewidth": 0,
             "ticks": ""
            },
            "type": "contourcarpet"
           }
          ],
          "heatmap": [
           {
            "colorbar": {
             "outlinewidth": 0,
             "ticks": ""
            },
            "colorscale": [
             [
              0,
              "#0d0887"
             ],
             [
              0.1111111111111111,
              "#46039f"
             ],
             [
              0.2222222222222222,
              "#7201a8"
             ],
             [
              0.3333333333333333,
              "#9c179e"
             ],
             [
              0.4444444444444444,
              "#bd3786"
             ],
             [
              0.5555555555555556,
              "#d8576b"
             ],
             [
              0.6666666666666666,
              "#ed7953"
             ],
             [
              0.7777777777777778,
              "#fb9f3a"
             ],
             [
              0.8888888888888888,
              "#fdca26"
             ],
             [
              1,
              "#f0f921"
             ]
            ],
            "type": "heatmap"
           }
          ],
          "heatmapgl": [
           {
            "colorbar": {
             "outlinewidth": 0,
             "ticks": ""
            },
            "colorscale": [
             [
              0,
              "#0d0887"
             ],
             [
              0.1111111111111111,
              "#46039f"
             ],
             [
              0.2222222222222222,
              "#7201a8"
             ],
             [
              0.3333333333333333,
              "#9c179e"
             ],
             [
              0.4444444444444444,
              "#bd3786"
             ],
             [
              0.5555555555555556,
              "#d8576b"
             ],
             [
              0.6666666666666666,
              "#ed7953"
             ],
             [
              0.7777777777777778,
              "#fb9f3a"
             ],
             [
              0.8888888888888888,
              "#fdca26"
             ],
             [
              1,
              "#f0f921"
             ]
            ],
            "type": "heatmapgl"
           }
          ],
          "histogram": [
           {
            "marker": {
             "pattern": {
              "fillmode": "overlay",
              "size": 10,
              "solidity": 0.2
             }
            },
            "type": "histogram"
           }
          ],
          "histogram2d": [
           {
            "colorbar": {
             "outlinewidth": 0,
             "ticks": ""
            },
            "colorscale": [
             [
              0,
              "#0d0887"
             ],
             [
              0.1111111111111111,
              "#46039f"
             ],
             [
              0.2222222222222222,
              "#7201a8"
             ],
             [
              0.3333333333333333,
              "#9c179e"
             ],
             [
              0.4444444444444444,
              "#bd3786"
             ],
             [
              0.5555555555555556,
              "#d8576b"
             ],
             [
              0.6666666666666666,
              "#ed7953"
             ],
             [
              0.7777777777777778,
              "#fb9f3a"
             ],
             [
              0.8888888888888888,
              "#fdca26"
             ],
             [
              1,
              "#f0f921"
             ]
            ],
            "type": "histogram2d"
           }
          ],
          "histogram2dcontour": [
           {
            "colorbar": {
             "outlinewidth": 0,
             "ticks": ""
            },
            "colorscale": [
             [
              0,
              "#0d0887"
             ],
             [
              0.1111111111111111,
              "#46039f"
             ],
             [
              0.2222222222222222,
              "#7201a8"
             ],
             [
              0.3333333333333333,
              "#9c179e"
             ],
             [
              0.4444444444444444,
              "#bd3786"
             ],
             [
              0.5555555555555556,
              "#d8576b"
             ],
             [
              0.6666666666666666,
              "#ed7953"
             ],
             [
              0.7777777777777778,
              "#fb9f3a"
             ],
             [
              0.8888888888888888,
              "#fdca26"
             ],
             [
              1,
              "#f0f921"
             ]
            ],
            "type": "histogram2dcontour"
           }
          ],
          "mesh3d": [
           {
            "colorbar": {
             "outlinewidth": 0,
             "ticks": ""
            },
            "type": "mesh3d"
           }
          ],
          "parcoords": [
           {
            "line": {
             "colorbar": {
              "outlinewidth": 0,
              "ticks": ""
             }
            },
            "type": "parcoords"
           }
          ],
          "pie": [
           {
            "automargin": true,
            "type": "pie"
           }
          ],
          "scatter": [
           {
            "marker": {
             "colorbar": {
              "outlinewidth": 0,
              "ticks": ""
             }
            },
            "type": "scatter"
           }
          ],
          "scatter3d": [
           {
            "line": {
             "colorbar": {
              "outlinewidth": 0,
              "ticks": ""
             }
            },
            "marker": {
             "colorbar": {
              "outlinewidth": 0,
              "ticks": ""
             }
            },
            "type": "scatter3d"
           }
          ],
          "scattercarpet": [
           {
            "marker": {
             "colorbar": {
              "outlinewidth": 0,
              "ticks": ""
             }
            },
            "type": "scattercarpet"
           }
          ],
          "scattergeo": [
           {
            "marker": {
             "colorbar": {
              "outlinewidth": 0,
              "ticks": ""
             }
            },
            "type": "scattergeo"
           }
          ],
          "scattergl": [
           {
            "marker": {
             "colorbar": {
              "outlinewidth": 0,
              "ticks": ""
             }
            },
            "type": "scattergl"
           }
          ],
          "scattermapbox": [
           {
            "marker": {
             "colorbar": {
              "outlinewidth": 0,
              "ticks": ""
             }
            },
            "type": "scattermapbox"
           }
          ],
          "scatterpolar": [
           {
            "marker": {
             "colorbar": {
              "outlinewidth": 0,
              "ticks": ""
             }
            },
            "type": "scatterpolar"
           }
          ],
          "scatterpolargl": [
           {
            "marker": {
             "colorbar": {
              "outlinewidth": 0,
              "ticks": ""
             }
            },
            "type": "scatterpolargl"
           }
          ],
          "scatterternary": [
           {
            "marker": {
             "colorbar": {
              "outlinewidth": 0,
              "ticks": ""
             }
            },
            "type": "scatterternary"
           }
          ],
          "surface": [
           {
            "colorbar": {
             "outlinewidth": 0,
             "ticks": ""
            },
            "colorscale": [
             [
              0,
              "#0d0887"
             ],
             [
              0.1111111111111111,
              "#46039f"
             ],
             [
              0.2222222222222222,
              "#7201a8"
             ],
             [
              0.3333333333333333,
              "#9c179e"
             ],
             [
              0.4444444444444444,
              "#bd3786"
             ],
             [
              0.5555555555555556,
              "#d8576b"
             ],
             [
              0.6666666666666666,
              "#ed7953"
             ],
             [
              0.7777777777777778,
              "#fb9f3a"
             ],
             [
              0.8888888888888888,
              "#fdca26"
             ],
             [
              1,
              "#f0f921"
             ]
            ],
            "type": "surface"
           }
          ],
          "table": [
           {
            "cells": {
             "fill": {
              "color": "#EBF0F8"
             },
             "line": {
              "color": "white"
             }
            },
            "header": {
             "fill": {
              "color": "#C8D4E3"
             },
             "line": {
              "color": "white"
             }
            },
            "type": "table"
           }
          ]
         },
         "layout": {
          "annotationdefaults": {
           "arrowcolor": "#2a3f5f",
           "arrowhead": 0,
           "arrowwidth": 1
          },
          "autotypenumbers": "strict",
          "coloraxis": {
           "colorbar": {
            "outlinewidth": 0,
            "ticks": ""
           }
          },
          "colorscale": {
           "diverging": [
            [
             0,
             "#8e0152"
            ],
            [
             0.1,
             "#c51b7d"
            ],
            [
             0.2,
             "#de77ae"
            ],
            [
             0.3,
             "#f1b6da"
            ],
            [
             0.4,
             "#fde0ef"
            ],
            [
             0.5,
             "#f7f7f7"
            ],
            [
             0.6,
             "#e6f5d0"
            ],
            [
             0.7,
             "#b8e186"
            ],
            [
             0.8,
             "#7fbc41"
            ],
            [
             0.9,
             "#4d9221"
            ],
            [
             1,
             "#276419"
            ]
           ],
           "sequential": [
            [
             0,
             "#0d0887"
            ],
            [
             0.1111111111111111,
             "#46039f"
            ],
            [
             0.2222222222222222,
             "#7201a8"
            ],
            [
             0.3333333333333333,
             "#9c179e"
            ],
            [
             0.4444444444444444,
             "#bd3786"
            ],
            [
             0.5555555555555556,
             "#d8576b"
            ],
            [
             0.6666666666666666,
             "#ed7953"
            ],
            [
             0.7777777777777778,
             "#fb9f3a"
            ],
            [
             0.8888888888888888,
             "#fdca26"
            ],
            [
             1,
             "#f0f921"
            ]
           ],
           "sequentialminus": [
            [
             0,
             "#0d0887"
            ],
            [
             0.1111111111111111,
             "#46039f"
            ],
            [
             0.2222222222222222,
             "#7201a8"
            ],
            [
             0.3333333333333333,
             "#9c179e"
            ],
            [
             0.4444444444444444,
             "#bd3786"
            ],
            [
             0.5555555555555556,
             "#d8576b"
            ],
            [
             0.6666666666666666,
             "#ed7953"
            ],
            [
             0.7777777777777778,
             "#fb9f3a"
            ],
            [
             0.8888888888888888,
             "#fdca26"
            ],
            [
             1,
             "#f0f921"
            ]
           ]
          },
          "colorway": [
           "#636efa",
           "#EF553B",
           "#00cc96",
           "#ab63fa",
           "#FFA15A",
           "#19d3f3",
           "#FF6692",
           "#B6E880",
           "#FF97FF",
           "#FECB52"
          ],
          "font": {
           "color": "#2a3f5f"
          },
          "geo": {
           "bgcolor": "white",
           "lakecolor": "white",
           "landcolor": "#E5ECF6",
           "showlakes": true,
           "showland": true,
           "subunitcolor": "white"
          },
          "hoverlabel": {
           "align": "left"
          },
          "hovermode": "closest",
          "mapbox": {
           "style": "light"
          },
          "paper_bgcolor": "white",
          "plot_bgcolor": "#E5ECF6",
          "polar": {
           "angularaxis": {
            "gridcolor": "white",
            "linecolor": "white",
            "ticks": ""
           },
           "bgcolor": "#E5ECF6",
           "radialaxis": {
            "gridcolor": "white",
            "linecolor": "white",
            "ticks": ""
           }
          },
          "scene": {
           "xaxis": {
            "backgroundcolor": "#E5ECF6",
            "gridcolor": "white",
            "gridwidth": 2,
            "linecolor": "white",
            "showbackground": true,
            "ticks": "",
            "zerolinecolor": "white"
           },
           "yaxis": {
            "backgroundcolor": "#E5ECF6",
            "gridcolor": "white",
            "gridwidth": 2,
            "linecolor": "white",
            "showbackground": true,
            "ticks": "",
            "zerolinecolor": "white"
           },
           "zaxis": {
            "backgroundcolor": "#E5ECF6",
            "gridcolor": "white",
            "gridwidth": 2,
            "linecolor": "white",
            "showbackground": true,
            "ticks": "",
            "zerolinecolor": "white"
           }
          },
          "shapedefaults": {
           "line": {
            "color": "#2a3f5f"
           }
          },
          "ternary": {
           "aaxis": {
            "gridcolor": "white",
            "linecolor": "white",
            "ticks": ""
           },
           "baxis": {
            "gridcolor": "white",
            "linecolor": "white",
            "ticks": ""
           },
           "bgcolor": "#E5ECF6",
           "caxis": {
            "gridcolor": "white",
            "linecolor": "white",
            "ticks": ""
           }
          },
          "title": {
           "x": 0.05
          },
          "xaxis": {
           "automargin": true,
           "gridcolor": "white",
           "linecolor": "white",
           "ticks": "",
           "title": {
            "standoff": 15
           },
           "zerolinecolor": "white",
           "zerolinewidth": 2
          },
          "yaxis": {
           "automargin": true,
           "gridcolor": "white",
           "linecolor": "white",
           "ticks": "",
           "title": {
            "standoff": 15
           },
           "zerolinecolor": "white",
           "zerolinewidth": 2
          }
         }
        },
        "title": {
         "text": "Custos dos investimentos realizados nos projetos"
        },
        "xaxis": {
         "anchor": "y",
         "categoryarray": [
          "Ampliação da capacidade do armazém MGL em 7%",
          "Projetos de P&D I",
          "Aquisição de novos equipamentos",
          "Capacitação de funcionários"
         ],
         "categoryorder": "array",
         "domain": [
          0,
          1
         ],
         "title": {
          "text": "Nome do Projeto"
         }
        },
        "yaxis": {
         "anchor": "x",
         "domain": [
          0,
          1
         ],
         "title": {
          "text": "Custo realizado"
         }
        }
       }
      }
     },
     "metadata": {},
     "output_type": "display_data"
    }
   ],
   "source": [
    "#Criando gráfico dos custos totais de investimento\n",
    "\n",
    "fig_custo_projeto = px.bar(df_sol_Y, x=\"Nome do Projeto\", y=\"Custo realizado\", text = \"Custo realizado\", color = \"Nome do Projeto\",title=\"Custos dos investimentos realizados nos projetos\")\n",
    "\n",
    "\n",
    "# Total investido\n",
    "fig_custo_projeto.add_trace(go.Scatter(x=df_sol_Y[\"Nome do Projeto\"], y=[total_investido for nome in df_sol_Y[\"Nome do Projeto\"] ],\n",
    "                    line=dict(color='royalblue', width=2, dash='dot'),\n",
    "                    name='Custo total investido'))\n",
    "    \n",
    "# Budget\n",
    "fig_custo_projeto.add_trace(go.Scatter(x=df_sol_Y[\"Nome do Projeto\"], y=[M for nome in df_sol_Y[\"Nome do Projeto\"] ],\n",
    "                    line = dict(color='firebrick', width=2, dash='dot'),\n",
    "                    name='Budget para investimento'))\n",
    "\n",
    "\n",
    "\n",
    "fig_custo_projeto.show()"
   ]
  },
  {
   "cell_type": "code",
   "execution_count": 45,
   "metadata": {},
   "outputs": [
    {
     "data": {
      "application/vnd.plotly.v1+json": {
       "config": {
        "plotlyServerURL": "https://plot.ly"
       },
       "data": [
        {
         "domain": {
          "x": [
           0,
           1
          ],
          "y": [
           0,
           1
          ]
         },
         "hovertemplate": "Nome do Projeto=%{label}<br>VPL realizado=%{value}<extra></extra>",
         "labels": [
          "Ampliação da capacidade do armazém MGL em 7%",
          "Projetos de P&D I",
          "Aquisição de novos equipamentos",
          "Capacitação de funcionários"
         ],
         "legendgroup": "",
         "name": "",
         "showlegend": true,
         "type": "pie",
         "values": [
          330000,
          250000,
          320000,
          90000
         ]
        }
       ],
       "layout": {
        "legend": {
         "tracegroupgap": 0
        },
        "template": {
         "data": {
          "bar": [
           {
            "error_x": {
             "color": "#2a3f5f"
            },
            "error_y": {
             "color": "#2a3f5f"
            },
            "marker": {
             "line": {
              "color": "#E5ECF6",
              "width": 0.5
             },
             "pattern": {
              "fillmode": "overlay",
              "size": 10,
              "solidity": 0.2
             }
            },
            "type": "bar"
           }
          ],
          "barpolar": [
           {
            "marker": {
             "line": {
              "color": "#E5ECF6",
              "width": 0.5
             },
             "pattern": {
              "fillmode": "overlay",
              "size": 10,
              "solidity": 0.2
             }
            },
            "type": "barpolar"
           }
          ],
          "carpet": [
           {
            "aaxis": {
             "endlinecolor": "#2a3f5f",
             "gridcolor": "white",
             "linecolor": "white",
             "minorgridcolor": "white",
             "startlinecolor": "#2a3f5f"
            },
            "baxis": {
             "endlinecolor": "#2a3f5f",
             "gridcolor": "white",
             "linecolor": "white",
             "minorgridcolor": "white",
             "startlinecolor": "#2a3f5f"
            },
            "type": "carpet"
           }
          ],
          "choropleth": [
           {
            "colorbar": {
             "outlinewidth": 0,
             "ticks": ""
            },
            "type": "choropleth"
           }
          ],
          "contour": [
           {
            "colorbar": {
             "outlinewidth": 0,
             "ticks": ""
            },
            "colorscale": [
             [
              0,
              "#0d0887"
             ],
             [
              0.1111111111111111,
              "#46039f"
             ],
             [
              0.2222222222222222,
              "#7201a8"
             ],
             [
              0.3333333333333333,
              "#9c179e"
             ],
             [
              0.4444444444444444,
              "#bd3786"
             ],
             [
              0.5555555555555556,
              "#d8576b"
             ],
             [
              0.6666666666666666,
              "#ed7953"
             ],
             [
              0.7777777777777778,
              "#fb9f3a"
             ],
             [
              0.8888888888888888,
              "#fdca26"
             ],
             [
              1,
              "#f0f921"
             ]
            ],
            "type": "contour"
           }
          ],
          "contourcarpet": [
           {
            "colorbar": {
             "outlinewidth": 0,
             "ticks": ""
            },
            "type": "contourcarpet"
           }
          ],
          "heatmap": [
           {
            "colorbar": {
             "outlinewidth": 0,
             "ticks": ""
            },
            "colorscale": [
             [
              0,
              "#0d0887"
             ],
             [
              0.1111111111111111,
              "#46039f"
             ],
             [
              0.2222222222222222,
              "#7201a8"
             ],
             [
              0.3333333333333333,
              "#9c179e"
             ],
             [
              0.4444444444444444,
              "#bd3786"
             ],
             [
              0.5555555555555556,
              "#d8576b"
             ],
             [
              0.6666666666666666,
              "#ed7953"
             ],
             [
              0.7777777777777778,
              "#fb9f3a"
             ],
             [
              0.8888888888888888,
              "#fdca26"
             ],
             [
              1,
              "#f0f921"
             ]
            ],
            "type": "heatmap"
           }
          ],
          "heatmapgl": [
           {
            "colorbar": {
             "outlinewidth": 0,
             "ticks": ""
            },
            "colorscale": [
             [
              0,
              "#0d0887"
             ],
             [
              0.1111111111111111,
              "#46039f"
             ],
             [
              0.2222222222222222,
              "#7201a8"
             ],
             [
              0.3333333333333333,
              "#9c179e"
             ],
             [
              0.4444444444444444,
              "#bd3786"
             ],
             [
              0.5555555555555556,
              "#d8576b"
             ],
             [
              0.6666666666666666,
              "#ed7953"
             ],
             [
              0.7777777777777778,
              "#fb9f3a"
             ],
             [
              0.8888888888888888,
              "#fdca26"
             ],
             [
              1,
              "#f0f921"
             ]
            ],
            "type": "heatmapgl"
           }
          ],
          "histogram": [
           {
            "marker": {
             "pattern": {
              "fillmode": "overlay",
              "size": 10,
              "solidity": 0.2
             }
            },
            "type": "histogram"
           }
          ],
          "histogram2d": [
           {
            "colorbar": {
             "outlinewidth": 0,
             "ticks": ""
            },
            "colorscale": [
             [
              0,
              "#0d0887"
             ],
             [
              0.1111111111111111,
              "#46039f"
             ],
             [
              0.2222222222222222,
              "#7201a8"
             ],
             [
              0.3333333333333333,
              "#9c179e"
             ],
             [
              0.4444444444444444,
              "#bd3786"
             ],
             [
              0.5555555555555556,
              "#d8576b"
             ],
             [
              0.6666666666666666,
              "#ed7953"
             ],
             [
              0.7777777777777778,
              "#fb9f3a"
             ],
             [
              0.8888888888888888,
              "#fdca26"
             ],
             [
              1,
              "#f0f921"
             ]
            ],
            "type": "histogram2d"
           }
          ],
          "histogram2dcontour": [
           {
            "colorbar": {
             "outlinewidth": 0,
             "ticks": ""
            },
            "colorscale": [
             [
              0,
              "#0d0887"
             ],
             [
              0.1111111111111111,
              "#46039f"
             ],
             [
              0.2222222222222222,
              "#7201a8"
             ],
             [
              0.3333333333333333,
              "#9c179e"
             ],
             [
              0.4444444444444444,
              "#bd3786"
             ],
             [
              0.5555555555555556,
              "#d8576b"
             ],
             [
              0.6666666666666666,
              "#ed7953"
             ],
             [
              0.7777777777777778,
              "#fb9f3a"
             ],
             [
              0.8888888888888888,
              "#fdca26"
             ],
             [
              1,
              "#f0f921"
             ]
            ],
            "type": "histogram2dcontour"
           }
          ],
          "mesh3d": [
           {
            "colorbar": {
             "outlinewidth": 0,
             "ticks": ""
            },
            "type": "mesh3d"
           }
          ],
          "parcoords": [
           {
            "line": {
             "colorbar": {
              "outlinewidth": 0,
              "ticks": ""
             }
            },
            "type": "parcoords"
           }
          ],
          "pie": [
           {
            "automargin": true,
            "type": "pie"
           }
          ],
          "scatter": [
           {
            "marker": {
             "colorbar": {
              "outlinewidth": 0,
              "ticks": ""
             }
            },
            "type": "scatter"
           }
          ],
          "scatter3d": [
           {
            "line": {
             "colorbar": {
              "outlinewidth": 0,
              "ticks": ""
             }
            },
            "marker": {
             "colorbar": {
              "outlinewidth": 0,
              "ticks": ""
             }
            },
            "type": "scatter3d"
           }
          ],
          "scattercarpet": [
           {
            "marker": {
             "colorbar": {
              "outlinewidth": 0,
              "ticks": ""
             }
            },
            "type": "scattercarpet"
           }
          ],
          "scattergeo": [
           {
            "marker": {
             "colorbar": {
              "outlinewidth": 0,
              "ticks": ""
             }
            },
            "type": "scattergeo"
           }
          ],
          "scattergl": [
           {
            "marker": {
             "colorbar": {
              "outlinewidth": 0,
              "ticks": ""
             }
            },
            "type": "scattergl"
           }
          ],
          "scattermapbox": [
           {
            "marker": {
             "colorbar": {
              "outlinewidth": 0,
              "ticks": ""
             }
            },
            "type": "scattermapbox"
           }
          ],
          "scatterpolar": [
           {
            "marker": {
             "colorbar": {
              "outlinewidth": 0,
              "ticks": ""
             }
            },
            "type": "scatterpolar"
           }
          ],
          "scatterpolargl": [
           {
            "marker": {
             "colorbar": {
              "outlinewidth": 0,
              "ticks": ""
             }
            },
            "type": "scatterpolargl"
           }
          ],
          "scatterternary": [
           {
            "marker": {
             "colorbar": {
              "outlinewidth": 0,
              "ticks": ""
             }
            },
            "type": "scatterternary"
           }
          ],
          "surface": [
           {
            "colorbar": {
             "outlinewidth": 0,
             "ticks": ""
            },
            "colorscale": [
             [
              0,
              "#0d0887"
             ],
             [
              0.1111111111111111,
              "#46039f"
             ],
             [
              0.2222222222222222,
              "#7201a8"
             ],
             [
              0.3333333333333333,
              "#9c179e"
             ],
             [
              0.4444444444444444,
              "#bd3786"
             ],
             [
              0.5555555555555556,
              "#d8576b"
             ],
             [
              0.6666666666666666,
              "#ed7953"
             ],
             [
              0.7777777777777778,
              "#fb9f3a"
             ],
             [
              0.8888888888888888,
              "#fdca26"
             ],
             [
              1,
              "#f0f921"
             ]
            ],
            "type": "surface"
           }
          ],
          "table": [
           {
            "cells": {
             "fill": {
              "color": "#EBF0F8"
             },
             "line": {
              "color": "white"
             }
            },
            "header": {
             "fill": {
              "color": "#C8D4E3"
             },
             "line": {
              "color": "white"
             }
            },
            "type": "table"
           }
          ]
         },
         "layout": {
          "annotationdefaults": {
           "arrowcolor": "#2a3f5f",
           "arrowhead": 0,
           "arrowwidth": 1
          },
          "autotypenumbers": "strict",
          "coloraxis": {
           "colorbar": {
            "outlinewidth": 0,
            "ticks": ""
           }
          },
          "colorscale": {
           "diverging": [
            [
             0,
             "#8e0152"
            ],
            [
             0.1,
             "#c51b7d"
            ],
            [
             0.2,
             "#de77ae"
            ],
            [
             0.3,
             "#f1b6da"
            ],
            [
             0.4,
             "#fde0ef"
            ],
            [
             0.5,
             "#f7f7f7"
            ],
            [
             0.6,
             "#e6f5d0"
            ],
            [
             0.7,
             "#b8e186"
            ],
            [
             0.8,
             "#7fbc41"
            ],
            [
             0.9,
             "#4d9221"
            ],
            [
             1,
             "#276419"
            ]
           ],
           "sequential": [
            [
             0,
             "#0d0887"
            ],
            [
             0.1111111111111111,
             "#46039f"
            ],
            [
             0.2222222222222222,
             "#7201a8"
            ],
            [
             0.3333333333333333,
             "#9c179e"
            ],
            [
             0.4444444444444444,
             "#bd3786"
            ],
            [
             0.5555555555555556,
             "#d8576b"
            ],
            [
             0.6666666666666666,
             "#ed7953"
            ],
            [
             0.7777777777777778,
             "#fb9f3a"
            ],
            [
             0.8888888888888888,
             "#fdca26"
            ],
            [
             1,
             "#f0f921"
            ]
           ],
           "sequentialminus": [
            [
             0,
             "#0d0887"
            ],
            [
             0.1111111111111111,
             "#46039f"
            ],
            [
             0.2222222222222222,
             "#7201a8"
            ],
            [
             0.3333333333333333,
             "#9c179e"
            ],
            [
             0.4444444444444444,
             "#bd3786"
            ],
            [
             0.5555555555555556,
             "#d8576b"
            ],
            [
             0.6666666666666666,
             "#ed7953"
            ],
            [
             0.7777777777777778,
             "#fb9f3a"
            ],
            [
             0.8888888888888888,
             "#fdca26"
            ],
            [
             1,
             "#f0f921"
            ]
           ]
          },
          "colorway": [
           "#636efa",
           "#EF553B",
           "#00cc96",
           "#ab63fa",
           "#FFA15A",
           "#19d3f3",
           "#FF6692",
           "#B6E880",
           "#FF97FF",
           "#FECB52"
          ],
          "font": {
           "color": "#2a3f5f"
          },
          "geo": {
           "bgcolor": "white",
           "lakecolor": "white",
           "landcolor": "#E5ECF6",
           "showlakes": true,
           "showland": true,
           "subunitcolor": "white"
          },
          "hoverlabel": {
           "align": "left"
          },
          "hovermode": "closest",
          "mapbox": {
           "style": "light"
          },
          "paper_bgcolor": "white",
          "plot_bgcolor": "#E5ECF6",
          "polar": {
           "angularaxis": {
            "gridcolor": "white",
            "linecolor": "white",
            "ticks": ""
           },
           "bgcolor": "#E5ECF6",
           "radialaxis": {
            "gridcolor": "white",
            "linecolor": "white",
            "ticks": ""
           }
          },
          "scene": {
           "xaxis": {
            "backgroundcolor": "#E5ECF6",
            "gridcolor": "white",
            "gridwidth": 2,
            "linecolor": "white",
            "showbackground": true,
            "ticks": "",
            "zerolinecolor": "white"
           },
           "yaxis": {
            "backgroundcolor": "#E5ECF6",
            "gridcolor": "white",
            "gridwidth": 2,
            "linecolor": "white",
            "showbackground": true,
            "ticks": "",
            "zerolinecolor": "white"
           },
           "zaxis": {
            "backgroundcolor": "#E5ECF6",
            "gridcolor": "white",
            "gridwidth": 2,
            "linecolor": "white",
            "showbackground": true,
            "ticks": "",
            "zerolinecolor": "white"
           }
          },
          "shapedefaults": {
           "line": {
            "color": "#2a3f5f"
           }
          },
          "ternary": {
           "aaxis": {
            "gridcolor": "white",
            "linecolor": "white",
            "ticks": ""
           },
           "baxis": {
            "gridcolor": "white",
            "linecolor": "white",
            "ticks": ""
           },
           "bgcolor": "#E5ECF6",
           "caxis": {
            "gridcolor": "white",
            "linecolor": "white",
            "ticks": ""
           }
          },
          "title": {
           "x": 0.05
          },
          "xaxis": {
           "automargin": true,
           "gridcolor": "white",
           "linecolor": "white",
           "ticks": "",
           "title": {
            "standoff": 15
           },
           "zerolinecolor": "white",
           "zerolinewidth": 2
          },
          "yaxis": {
           "automargin": true,
           "gridcolor": "white",
           "linecolor": "white",
           "ticks": "",
           "title": {
            "standoff": 15
           },
           "zerolinecolor": "white",
           "zerolinewidth": 2
          }
         }
        },
        "title": {
         "text": "VPL dos projetos"
        }
       }
      }
     },
     "metadata": {},
     "output_type": "display_data"
    },
    {
     "data": {
      "application/vnd.plotly.v1+json": {
       "config": {
        "plotlyServerURL": "https://plot.ly"
       },
       "data": [
        {
         "alignmentgroup": "True",
         "hovertemplate": "Nome do Projeto=%{x}<br>VPL realizado=%{text}<extra></extra>",
         "legendgroup": "Ampliação da capacidade do armazém MGL em 7%",
         "marker": {
          "color": "#636efa",
          "pattern": {
           "shape": ""
          }
         },
         "name": "Ampliação da capacidade do armazém MGL em 7%",
         "offsetgroup": "Ampliação da capacidade do armazém MGL em 7%",
         "orientation": "v",
         "showlegend": true,
         "text": [
          330000
         ],
         "textposition": "auto",
         "type": "bar",
         "x": [
          "Ampliação da capacidade do armazém MGL em 7%"
         ],
         "xaxis": "x",
         "y": [
          330000
         ],
         "yaxis": "y"
        },
        {
         "alignmentgroup": "True",
         "hovertemplate": "Nome do Projeto=%{x}<br>VPL realizado=%{text}<extra></extra>",
         "legendgroup": "Projetos de P&D I",
         "marker": {
          "color": "#EF553B",
          "pattern": {
           "shape": ""
          }
         },
         "name": "Projetos de P&D I",
         "offsetgroup": "Projetos de P&D I",
         "orientation": "v",
         "showlegend": true,
         "text": [
          250000
         ],
         "textposition": "auto",
         "type": "bar",
         "x": [
          "Projetos de P&D I"
         ],
         "xaxis": "x",
         "y": [
          250000
         ],
         "yaxis": "y"
        },
        {
         "alignmentgroup": "True",
         "hovertemplate": "Nome do Projeto=%{x}<br>VPL realizado=%{text}<extra></extra>",
         "legendgroup": "Aquisição de novos equipamentos",
         "marker": {
          "color": "#00cc96",
          "pattern": {
           "shape": ""
          }
         },
         "name": "Aquisição de novos equipamentos",
         "offsetgroup": "Aquisição de novos equipamentos",
         "orientation": "v",
         "showlegend": true,
         "text": [
          320000
         ],
         "textposition": "auto",
         "type": "bar",
         "x": [
          "Aquisição de novos equipamentos"
         ],
         "xaxis": "x",
         "y": [
          320000
         ],
         "yaxis": "y"
        },
        {
         "alignmentgroup": "True",
         "hovertemplate": "Nome do Projeto=%{x}<br>VPL realizado=%{text}<extra></extra>",
         "legendgroup": "Capacitação de funcionários",
         "marker": {
          "color": "#ab63fa",
          "pattern": {
           "shape": ""
          }
         },
         "name": "Capacitação de funcionários",
         "offsetgroup": "Capacitação de funcionários",
         "orientation": "v",
         "showlegend": true,
         "text": [
          90000
         ],
         "textposition": "auto",
         "type": "bar",
         "x": [
          "Capacitação de funcionários"
         ],
         "xaxis": "x",
         "y": [
          90000
         ],
         "yaxis": "y"
        },
        {
         "line": {
          "color": "royalblue",
          "dash": "dot",
          "width": 2
         },
         "name": "Custo total investido",
         "type": "scatter",
         "x": [
          "Ampliação da capacidade do armazém MGL em 7%",
          "Projetos de P&D I",
          "Aquisição de novos equipamentos",
          "Capacitação de funcionários"
         ],
         "y": [
          950000,
          950000,
          950000,
          950000
         ]
        },
        {
         "line": {
          "color": "firebrick",
          "dash": "dot",
          "width": 2
         },
         "name": "VPL retornado",
         "type": "scatter",
         "x": [
          "Ampliação da capacidade do armazém MGL em 7%",
          "Projetos de P&D I",
          "Aquisição de novos equipamentos",
          "Capacitação de funcionários"
         ],
         "y": [
          990000,
          990000,
          990000,
          990000
         ]
        }
       ],
       "layout": {
        "barmode": "relative",
        "legend": {
         "title": {
          "text": "Nome do Projeto"
         },
         "tracegroupgap": 0
        },
        "template": {
         "data": {
          "bar": [
           {
            "error_x": {
             "color": "#2a3f5f"
            },
            "error_y": {
             "color": "#2a3f5f"
            },
            "marker": {
             "line": {
              "color": "#E5ECF6",
              "width": 0.5
             },
             "pattern": {
              "fillmode": "overlay",
              "size": 10,
              "solidity": 0.2
             }
            },
            "type": "bar"
           }
          ],
          "barpolar": [
           {
            "marker": {
             "line": {
              "color": "#E5ECF6",
              "width": 0.5
             },
             "pattern": {
              "fillmode": "overlay",
              "size": 10,
              "solidity": 0.2
             }
            },
            "type": "barpolar"
           }
          ],
          "carpet": [
           {
            "aaxis": {
             "endlinecolor": "#2a3f5f",
             "gridcolor": "white",
             "linecolor": "white",
             "minorgridcolor": "white",
             "startlinecolor": "#2a3f5f"
            },
            "baxis": {
             "endlinecolor": "#2a3f5f",
             "gridcolor": "white",
             "linecolor": "white",
             "minorgridcolor": "white",
             "startlinecolor": "#2a3f5f"
            },
            "type": "carpet"
           }
          ],
          "choropleth": [
           {
            "colorbar": {
             "outlinewidth": 0,
             "ticks": ""
            },
            "type": "choropleth"
           }
          ],
          "contour": [
           {
            "colorbar": {
             "outlinewidth": 0,
             "ticks": ""
            },
            "colorscale": [
             [
              0,
              "#0d0887"
             ],
             [
              0.1111111111111111,
              "#46039f"
             ],
             [
              0.2222222222222222,
              "#7201a8"
             ],
             [
              0.3333333333333333,
              "#9c179e"
             ],
             [
              0.4444444444444444,
              "#bd3786"
             ],
             [
              0.5555555555555556,
              "#d8576b"
             ],
             [
              0.6666666666666666,
              "#ed7953"
             ],
             [
              0.7777777777777778,
              "#fb9f3a"
             ],
             [
              0.8888888888888888,
              "#fdca26"
             ],
             [
              1,
              "#f0f921"
             ]
            ],
            "type": "contour"
           }
          ],
          "contourcarpet": [
           {
            "colorbar": {
             "outlinewidth": 0,
             "ticks": ""
            },
            "type": "contourcarpet"
           }
          ],
          "heatmap": [
           {
            "colorbar": {
             "outlinewidth": 0,
             "ticks": ""
            },
            "colorscale": [
             [
              0,
              "#0d0887"
             ],
             [
              0.1111111111111111,
              "#46039f"
             ],
             [
              0.2222222222222222,
              "#7201a8"
             ],
             [
              0.3333333333333333,
              "#9c179e"
             ],
             [
              0.4444444444444444,
              "#bd3786"
             ],
             [
              0.5555555555555556,
              "#d8576b"
             ],
             [
              0.6666666666666666,
              "#ed7953"
             ],
             [
              0.7777777777777778,
              "#fb9f3a"
             ],
             [
              0.8888888888888888,
              "#fdca26"
             ],
             [
              1,
              "#f0f921"
             ]
            ],
            "type": "heatmap"
           }
          ],
          "heatmapgl": [
           {
            "colorbar": {
             "outlinewidth": 0,
             "ticks": ""
            },
            "colorscale": [
             [
              0,
              "#0d0887"
             ],
             [
              0.1111111111111111,
              "#46039f"
             ],
             [
              0.2222222222222222,
              "#7201a8"
             ],
             [
              0.3333333333333333,
              "#9c179e"
             ],
             [
              0.4444444444444444,
              "#bd3786"
             ],
             [
              0.5555555555555556,
              "#d8576b"
             ],
             [
              0.6666666666666666,
              "#ed7953"
             ],
             [
              0.7777777777777778,
              "#fb9f3a"
             ],
             [
              0.8888888888888888,
              "#fdca26"
             ],
             [
              1,
              "#f0f921"
             ]
            ],
            "type": "heatmapgl"
           }
          ],
          "histogram": [
           {
            "marker": {
             "pattern": {
              "fillmode": "overlay",
              "size": 10,
              "solidity": 0.2
             }
            },
            "type": "histogram"
           }
          ],
          "histogram2d": [
           {
            "colorbar": {
             "outlinewidth": 0,
             "ticks": ""
            },
            "colorscale": [
             [
              0,
              "#0d0887"
             ],
             [
              0.1111111111111111,
              "#46039f"
             ],
             [
              0.2222222222222222,
              "#7201a8"
             ],
             [
              0.3333333333333333,
              "#9c179e"
             ],
             [
              0.4444444444444444,
              "#bd3786"
             ],
             [
              0.5555555555555556,
              "#d8576b"
             ],
             [
              0.6666666666666666,
              "#ed7953"
             ],
             [
              0.7777777777777778,
              "#fb9f3a"
             ],
             [
              0.8888888888888888,
              "#fdca26"
             ],
             [
              1,
              "#f0f921"
             ]
            ],
            "type": "histogram2d"
           }
          ],
          "histogram2dcontour": [
           {
            "colorbar": {
             "outlinewidth": 0,
             "ticks": ""
            },
            "colorscale": [
             [
              0,
              "#0d0887"
             ],
             [
              0.1111111111111111,
              "#46039f"
             ],
             [
              0.2222222222222222,
              "#7201a8"
             ],
             [
              0.3333333333333333,
              "#9c179e"
             ],
             [
              0.4444444444444444,
              "#bd3786"
             ],
             [
              0.5555555555555556,
              "#d8576b"
             ],
             [
              0.6666666666666666,
              "#ed7953"
             ],
             [
              0.7777777777777778,
              "#fb9f3a"
             ],
             [
              0.8888888888888888,
              "#fdca26"
             ],
             [
              1,
              "#f0f921"
             ]
            ],
            "type": "histogram2dcontour"
           }
          ],
          "mesh3d": [
           {
            "colorbar": {
             "outlinewidth": 0,
             "ticks": ""
            },
            "type": "mesh3d"
           }
          ],
          "parcoords": [
           {
            "line": {
             "colorbar": {
              "outlinewidth": 0,
              "ticks": ""
             }
            },
            "type": "parcoords"
           }
          ],
          "pie": [
           {
            "automargin": true,
            "type": "pie"
           }
          ],
          "scatter": [
           {
            "marker": {
             "colorbar": {
              "outlinewidth": 0,
              "ticks": ""
             }
            },
            "type": "scatter"
           }
          ],
          "scatter3d": [
           {
            "line": {
             "colorbar": {
              "outlinewidth": 0,
              "ticks": ""
             }
            },
            "marker": {
             "colorbar": {
              "outlinewidth": 0,
              "ticks": ""
             }
            },
            "type": "scatter3d"
           }
          ],
          "scattercarpet": [
           {
            "marker": {
             "colorbar": {
              "outlinewidth": 0,
              "ticks": ""
             }
            },
            "type": "scattercarpet"
           }
          ],
          "scattergeo": [
           {
            "marker": {
             "colorbar": {
              "outlinewidth": 0,
              "ticks": ""
             }
            },
            "type": "scattergeo"
           }
          ],
          "scattergl": [
           {
            "marker": {
             "colorbar": {
              "outlinewidth": 0,
              "ticks": ""
             }
            },
            "type": "scattergl"
           }
          ],
          "scattermapbox": [
           {
            "marker": {
             "colorbar": {
              "outlinewidth": 0,
              "ticks": ""
             }
            },
            "type": "scattermapbox"
           }
          ],
          "scatterpolar": [
           {
            "marker": {
             "colorbar": {
              "outlinewidth": 0,
              "ticks": ""
             }
            },
            "type": "scatterpolar"
           }
          ],
          "scatterpolargl": [
           {
            "marker": {
             "colorbar": {
              "outlinewidth": 0,
              "ticks": ""
             }
            },
            "type": "scatterpolargl"
           }
          ],
          "scatterternary": [
           {
            "marker": {
             "colorbar": {
              "outlinewidth": 0,
              "ticks": ""
             }
            },
            "type": "scatterternary"
           }
          ],
          "surface": [
           {
            "colorbar": {
             "outlinewidth": 0,
             "ticks": ""
            },
            "colorscale": [
             [
              0,
              "#0d0887"
             ],
             [
              0.1111111111111111,
              "#46039f"
             ],
             [
              0.2222222222222222,
              "#7201a8"
             ],
             [
              0.3333333333333333,
              "#9c179e"
             ],
             [
              0.4444444444444444,
              "#bd3786"
             ],
             [
              0.5555555555555556,
              "#d8576b"
             ],
             [
              0.6666666666666666,
              "#ed7953"
             ],
             [
              0.7777777777777778,
              "#fb9f3a"
             ],
             [
              0.8888888888888888,
              "#fdca26"
             ],
             [
              1,
              "#f0f921"
             ]
            ],
            "type": "surface"
           }
          ],
          "table": [
           {
            "cells": {
             "fill": {
              "color": "#EBF0F8"
             },
             "line": {
              "color": "white"
             }
            },
            "header": {
             "fill": {
              "color": "#C8D4E3"
             },
             "line": {
              "color": "white"
             }
            },
            "type": "table"
           }
          ]
         },
         "layout": {
          "annotationdefaults": {
           "arrowcolor": "#2a3f5f",
           "arrowhead": 0,
           "arrowwidth": 1
          },
          "autotypenumbers": "strict",
          "coloraxis": {
           "colorbar": {
            "outlinewidth": 0,
            "ticks": ""
           }
          },
          "colorscale": {
           "diverging": [
            [
             0,
             "#8e0152"
            ],
            [
             0.1,
             "#c51b7d"
            ],
            [
             0.2,
             "#de77ae"
            ],
            [
             0.3,
             "#f1b6da"
            ],
            [
             0.4,
             "#fde0ef"
            ],
            [
             0.5,
             "#f7f7f7"
            ],
            [
             0.6,
             "#e6f5d0"
            ],
            [
             0.7,
             "#b8e186"
            ],
            [
             0.8,
             "#7fbc41"
            ],
            [
             0.9,
             "#4d9221"
            ],
            [
             1,
             "#276419"
            ]
           ],
           "sequential": [
            [
             0,
             "#0d0887"
            ],
            [
             0.1111111111111111,
             "#46039f"
            ],
            [
             0.2222222222222222,
             "#7201a8"
            ],
            [
             0.3333333333333333,
             "#9c179e"
            ],
            [
             0.4444444444444444,
             "#bd3786"
            ],
            [
             0.5555555555555556,
             "#d8576b"
            ],
            [
             0.6666666666666666,
             "#ed7953"
            ],
            [
             0.7777777777777778,
             "#fb9f3a"
            ],
            [
             0.8888888888888888,
             "#fdca26"
            ],
            [
             1,
             "#f0f921"
            ]
           ],
           "sequentialminus": [
            [
             0,
             "#0d0887"
            ],
            [
             0.1111111111111111,
             "#46039f"
            ],
            [
             0.2222222222222222,
             "#7201a8"
            ],
            [
             0.3333333333333333,
             "#9c179e"
            ],
            [
             0.4444444444444444,
             "#bd3786"
            ],
            [
             0.5555555555555556,
             "#d8576b"
            ],
            [
             0.6666666666666666,
             "#ed7953"
            ],
            [
             0.7777777777777778,
             "#fb9f3a"
            ],
            [
             0.8888888888888888,
             "#fdca26"
            ],
            [
             1,
             "#f0f921"
            ]
           ]
          },
          "colorway": [
           "#636efa",
           "#EF553B",
           "#00cc96",
           "#ab63fa",
           "#FFA15A",
           "#19d3f3",
           "#FF6692",
           "#B6E880",
           "#FF97FF",
           "#FECB52"
          ],
          "font": {
           "color": "#2a3f5f"
          },
          "geo": {
           "bgcolor": "white",
           "lakecolor": "white",
           "landcolor": "#E5ECF6",
           "showlakes": true,
           "showland": true,
           "subunitcolor": "white"
          },
          "hoverlabel": {
           "align": "left"
          },
          "hovermode": "closest",
          "mapbox": {
           "style": "light"
          },
          "paper_bgcolor": "white",
          "plot_bgcolor": "#E5ECF6",
          "polar": {
           "angularaxis": {
            "gridcolor": "white",
            "linecolor": "white",
            "ticks": ""
           },
           "bgcolor": "#E5ECF6",
           "radialaxis": {
            "gridcolor": "white",
            "linecolor": "white",
            "ticks": ""
           }
          },
          "scene": {
           "xaxis": {
            "backgroundcolor": "#E5ECF6",
            "gridcolor": "white",
            "gridwidth": 2,
            "linecolor": "white",
            "showbackground": true,
            "ticks": "",
            "zerolinecolor": "white"
           },
           "yaxis": {
            "backgroundcolor": "#E5ECF6",
            "gridcolor": "white",
            "gridwidth": 2,
            "linecolor": "white",
            "showbackground": true,
            "ticks": "",
            "zerolinecolor": "white"
           },
           "zaxis": {
            "backgroundcolor": "#E5ECF6",
            "gridcolor": "white",
            "gridwidth": 2,
            "linecolor": "white",
            "showbackground": true,
            "ticks": "",
            "zerolinecolor": "white"
           }
          },
          "shapedefaults": {
           "line": {
            "color": "#2a3f5f"
           }
          },
          "ternary": {
           "aaxis": {
            "gridcolor": "white",
            "linecolor": "white",
            "ticks": ""
           },
           "baxis": {
            "gridcolor": "white",
            "linecolor": "white",
            "ticks": ""
           },
           "bgcolor": "#E5ECF6",
           "caxis": {
            "gridcolor": "white",
            "linecolor": "white",
            "ticks": ""
           }
          },
          "title": {
           "x": 0.05
          },
          "xaxis": {
           "automargin": true,
           "gridcolor": "white",
           "linecolor": "white",
           "ticks": "",
           "title": {
            "standoff": 15
           },
           "zerolinecolor": "white",
           "zerolinewidth": 2
          },
          "yaxis": {
           "automargin": true,
           "gridcolor": "white",
           "linecolor": "white",
           "ticks": "",
           "title": {
            "standoff": 15
           },
           "zerolinecolor": "white",
           "zerolinewidth": 2
          }
         }
        },
        "title": {
         "text": "VPL dos projetos"
        },
        "xaxis": {
         "anchor": "y",
         "categoryarray": [
          "Ampliação da capacidade do armazém MGL em 7%",
          "Projetos de P&D I",
          "Aquisição de novos equipamentos",
          "Capacitação de funcionários"
         ],
         "categoryorder": "array",
         "domain": [
          0,
          1
         ],
         "title": {
          "text": "Nome do Projeto"
         }
        },
        "yaxis": {
         "anchor": "x",
         "domain": [
          0,
          1
         ],
         "title": {
          "text": "VPL realizado"
         }
        }
       }
      }
     },
     "metadata": {},
     "output_type": "display_data"
    }
   ],
   "source": [
    "#Criando gráfico dos VPLS totais de investimento\n",
    "\n",
    "\n",
    "\n",
    "\n",
    "fig_vpl_total = px.pie(df_sol_Y, values='VPL realizado', \n",
    "                names='Nome do Projeto', title=\"VPL dos projetos\")\n",
    "\n",
    "fig_vpl_total.show()\n",
    "\n",
    "fig_analise_vpl = px.bar(df_sol_Y, x=\"Nome do Projeto\", y=\"VPL realizado\", text = \"VPL realizado\", color = \"Nome do Projeto\",title=\"VPL dos projetos\")\n",
    "\n",
    "\n",
    "\n",
    "# Total investido\n",
    "fig_analise_vpl.add_trace(go.Scatter(x=df_sol_Y[\"Nome do Projeto\"], y=[total_investido for nome in df_sol_Y[\"Nome do Projeto\"] ],\n",
    "                    line=dict(color='royalblue', width=2, dash='dot'),\n",
    "                    name='Custo total investido'))\n",
    "    \n",
    "# VPL retornado\n",
    "fig_analise_vpl.add_trace(go.Scatter(x=df_sol_Y[\"Nome do Projeto\"], y=[vpl_total for nome in df_sol_Y[\"Nome do Projeto\"] ],\n",
    "                    line = dict(color='firebrick', width=2, dash='dot'),\n",
    "                    name='VPL retornado'))\n",
    "\n",
    "\n",
    "\n",
    "fig_analise_vpl.show()"
   ]
  }
 ],
 "metadata": {
  "kernelspec": {
   "display_name": "Python 3",
   "language": "python",
   "name": "python3"
  },
  "language_info": {
   "codemirror_mode": {
    "name": "ipython",
    "version": 3
   },
   "file_extension": ".py",
   "mimetype": "text/x-python",
   "name": "python",
   "nbconvert_exporter": "python",
   "pygments_lexer": "ipython3",
   "version": "3.9.12 (main, Apr  4 2022, 05:22:27) [MSC v.1916 64 bit (AMD64)]"
  },
  "orig_nbformat": 4,
  "vscode": {
   "interpreter": {
    "hash": "bdf60064ca17e34e6447c42ffc4d1bdbbb685bef12fe6354d40c5de0a529b5a2"
   }
  }
 },
 "nbformat": 4,
 "nbformat_minor": 2
}

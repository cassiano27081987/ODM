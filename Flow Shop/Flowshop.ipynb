{
 "cells": [
  {
   "cell_type": "markdown",
   "metadata": {},
   "source": [
    "# Exemplo de programação de operações em Flow Shop\n",
    "\n",
    "Programa que lê um conjunto de tempos de processamento de tarefas em um ambiente Flow Shop e uma sequencia. Ele deve retornar o makespan."
   ]
  },
  {
   "cell_type": "markdown",
   "metadata": {},
   "source": [
    "Importação das bibliotecas "
   ]
  },
  {
   "cell_type": "code",
   "execution_count": 14,
   "metadata": {},
   "outputs": [],
   "source": [
    "\n",
    "import numpy as np\n",
    "from prettytable import PrettyTable\n",
    "import plotly.io as pio\n",
    "import matplotlib.patches as mpatches\n",
    "import matplotlib.pyplot as plt\n",
    "import plotly.graph_objs as go# for Gantt\n",
    "from plotly.offline import download_plotlyjs, init_notebook_mode,  plot #for Gantt\n",
    "import random\n",
    "import copy \n",
    "import time\n",
    "import timeit\n",
    "from collections import defaultdict\n",
    "import datetime                         #for Gantt (time formatting) #duration is in days\n",
    "import plotly                           #for Gantt (full package)\n",
    "import plotly.figure_factory as ff      #for Gantt\n",
    "import chart_studio.plotly as py  \n",
    "\n"
   ]
  },
  {
   "cell_type": "markdown",
   "metadata": {},
   "source": [
    "Leitura dos dados"
   ]
  },
  {
   "cell_type": "code",
   "execution_count": 15,
   "metadata": {},
   "outputs": [
    {
     "name": "stdout",
     "output_type": "stream",
     "text": [
      "A linha é:  12 13 45 \n",
      "\n",
      "A linha é:  15 10 14\n",
      "\n",
      "A linha é:  5 20 5 \n",
      "\n",
      "A linha é:  6 18 18 \n",
      "\n",
      "A linha é:  17 5 22\n",
      "\n"
     ]
    }
   ],
   "source": [
    "conteudo = []\n",
    "fob = open(\"dadosFlowshop.txt\", \"r\") # esta instância contém 5 tarefas e 3 máquinas\n",
    "for linha in fob.readlines():\n",
    "    #print(\"A linha é: \",linha)\n",
    "    conteudo.append([int(i) for i in linha.split()])\n",
    "fob.close()"
   ]
  },
  {
   "cell_type": "markdown",
   "metadata": {},
   "source": [
    "Matriz de tempos de processamento"
   ]
  },
  {
   "cell_type": "code",
   "execution_count": 16,
   "metadata": {},
   "outputs": [
    {
     "name": "stdout",
     "output_type": "stream",
     "text": [
      "[[12 13 45]\n",
      " [15 10 14]\n",
      " [ 5 20  5]\n",
      " [ 6 18 18]\n",
      " [17  5 22]]\n",
      "\n"
     ]
    }
   ],
   "source": [
    "\n",
    "tempos_Proc = np.array(conteudo) #Lendo matriz. Desse jeito, tempos_Proc[n][m]\n",
    "print(tempos_Proc)"
   ]
  },
  {
   "cell_type": "markdown",
   "metadata": {},
   "source": [
    "Declaração dos conjuntos"
   ]
  },
  {
   "cell_type": "code",
   "execution_count": 17,
   "metadata": {},
   "outputs": [
    {
     "name": "stdout",
     "output_type": "stream",
     "text": [
      " O número de jobs a serem sequenciados é 5 e o número de máquinas é 3\n"
     ]
    }
   ],
   "source": [
    "M =  len(tempos_Proc[0]) # número de jobs\n",
    "N =  len(tempos_Proc) # número de máquinas\n",
    "\n",
    "print(f' O número de jobs a serem sequenciados é {N} e o número de máquinas é {M}')"
   ]
  },
  {
   "cell_type": "markdown",
   "metadata": {},
   "source": [
    "Sequencia a ser analisada:"
   ]
  },
  {
   "cell_type": "code",
   "execution_count": 18,
   "metadata": {},
   "outputs": [],
   "source": [
    "seq = [2, 1, 3, 0, 4]"
   ]
  },
  {
   "cell_type": "markdown",
   "metadata": {},
   "source": [
    "Cálculo do makespan:"
   ]
  },
  {
   "cell_type": "code",
   "execution_count": 19,
   "metadata": {},
   "outputs": [],
   "source": [
    "completionTimes = np.zeros((N, M)) # Criação da matrix de Compretion Times\n",
    "\n",
    "i = seq[0]\n",
    "completionTimes[i][0] = tempos_Proc[i][0]\n",
    "for m in range(1,M):\n",
    "    i = seq[0]\n",
    "    completionTimes[i][m] = completionTimes[i][m-1] + tempos_Proc[i][m]\n",
    "for i in range(1, len(seq)):\n",
    "    atual = seq[i]\n",
    "    anterior = seq[i-1]\n",
    "    completionTimes[atual][0] = completionTimes[anterior][0] + tempos_Proc[atual][0]\n",
    "    for m in range(1, M):\n",
    "        completionTimes[atual][m] = max(completionTimes[atual][m-1],completionTimes[anterior][m])  + tempos_Proc[atual][m]"
   ]
  },
  {
   "cell_type": "markdown",
   "metadata": {},
   "source": [
    "Impressão dos resultados em formato de tabela"
   ]
  },
  {
   "cell_type": "code",
   "execution_count": 20,
   "metadata": {},
   "outputs": [
    {
     "name": "stdout",
     "output_type": "stream",
     "text": [
      "+------+------+-------+\n",
      "|  M1  |  M2  |   M3  |\n",
      "+------+------+-------+\n",
      "| 38.0 | 66.0 | 116.0 |\n",
      "| 20.0 | 35.0 |  49.0 |\n",
      "| 5.0  | 25.0 |  30.0 |\n",
      "| 26.0 | 53.0 |  71.0 |\n",
      "| 55.0 | 71.0 | 138.0 |\n",
      "+------+------+-------+\n",
      "Makespan = 138.0\n"
     ]
    }
   ],
   "source": [
    "pt = PrettyTable([\"M1\", \"M2\", \"M3\"])\n",
    "for i in completionTimes:\n",
    "    pt.add_row(i)\n",
    "print(pt)\n",
    "print(\"Makespan =\",np.max(completionTimes))"
   ]
  },
  {
   "cell_type": "markdown",
   "metadata": {},
   "source": [
    "Computação dos parâmetros para Construção do Gráfico de Gannt"
   ]
  },
  {
   "cell_type": "code",
   "execution_count": 21,
   "metadata": {},
   "outputs": [
    {
     "name": "stdout",
     "output_type": "stream",
     "text": [
      "[array([ 5, 20,  5]), array([15, 10, 14]), array([ 6, 18, 18]), array([12, 13, 45]), array([17,  5, 22])]\n"
     ]
    }
   ],
   "source": [
    "seq_otima = [] # Como neste caso estamos avaliando somente uma sequência ela será considerada como ótima (apesar de não ser... analisar Gannt)\n",
    "# Este exemplo é didático, portanto todas as sequencias devem ser avaliadaas para a descoberta no menor Makespan\n",
    "\n",
    "for i in seq:\n",
    "    seq_otima.append(tempos_Proc[i])\n",
    "\n",
    "print(seq_otima)"
   ]
  },
  {
   "cell_type": "code",
   "execution_count": 22,
   "metadata": {},
   "outputs": [
    {
     "name": "stdout",
     "output_type": "stream",
     "text": [
      "Inicio das tarefas\n",
      "[[ 0.  5. 25.]\n",
      " [ 5. 25. 35.]\n",
      " [25. 35. 53.]\n",
      " [35. 53. 66.]\n",
      " [53. 70. 75.]]\n"
     ]
    }
   ],
   "source": [
    "#Construção da matriz de tempo de início das tarefas\n",
    "\n",
    "inicio = np.zeros((N,M))\n",
    "\n",
    "\n",
    "for i in range (N):\n",
    "  for j in range(M):\n",
    "    if i==0 and j==0:\n",
    "      inicio[0][0]=0\n",
    "    elif i>0 and j==0:\n",
    "      inicio[i][j] =inicio[i-1][j+1]   \n",
    "    elif i==N-1:\n",
    "      inicio[i][j] = inicio[i][j-1]+ seq_otima[i][j-1]\n",
    "    else:\n",
    "      if  j<M-1:\n",
    "        aux_comparacao = inicio[i][j-1] + seq_otima[i][j-1] \n",
    "        if aux_comparacao < inicio[i-1][j+1]:\n",
    "          #print(aux_comparacao, \"<\" , inicio[i-1][j+1] )\n",
    "          inicio[i][j] = inicio[i-1][j+1]\n",
    "        else:  \n",
    "          inicio[i][j] =inicio[i][j-1]+ seq_otima[i][j-1] \n",
    "      else:  \n",
    "        if i==0:\n",
    "          inicio[i][j] = inicio[i][j-1] + seq_otima[i][j-1]\n",
    "        else:\n",
    "          aux_comparacao = inicio[i][j-1] + seq_otima[i][j-1]\n",
    "          if aux_comparacao > inicio[i][j]:\n",
    "            inicio[i][j] = aux_comparacao\n",
    "          else:\n",
    "            inicio[i][j] =inicio[i][j-1]+ seq_otima[i][j-1]\n",
    "\n",
    "print(\"Inicio das tarefas\")   \n",
    "print(inicio)"
   ]
  },
  {
   "cell_type": "code",
   "execution_count": 23,
   "metadata": {},
   "outputs": [
    {
     "name": "stdout",
     "output_type": "stream",
     "text": [
      "Término\n",
      "[[  5.  25.  30.]\n",
      " [ 20.  35.  49.]\n",
      " [ 31.  53.  71.]\n",
      " [ 47.  66. 111.]\n",
      " [ 70.  75.  97.]]\n"
     ]
    }
   ],
   "source": [
    "#Construção da matriz de tempo de término das tarefas\n",
    "\n",
    "termino = np.zeros((N,M))\n",
    "\n",
    "for i in range(N):\n",
    "  for j in range(M):\n",
    "    termino[i][j] = seq_otima[i][j] + inicio[i][j]\n",
    "\n",
    "print(\"Término\")\n",
    "print(termino)"
   ]
  },
  {
   "cell_type": "code",
   "execution_count": 25,
   "metadata": {},
   "outputs": [
    {
     "data": {
      "application/vnd.plotly.v1+json": {
       "config": {
        "plotlyServerURL": "https://plot.ly"
       },
       "data": [
        {
         "fill": "toself",
         "fillcolor": "rgb(112, 252, 227)",
         "hoverinfo": "name",
         "legendgroup": "rgb(112, 252, 227)",
         "mode": "none",
         "name": "job 4",
         "showlegend": true,
         "type": "scatter",
         "x": [
          "2022-09-16 07:35:00",
          "2022-09-16 07:47:00",
          "2022-09-16 07:47:00",
          "2022-09-16 07:35:00",
          "2022-09-16 07:35:00",
          "2022-09-16 07:53:00",
          "2022-09-16 08:06:00",
          "2022-09-16 08:06:00",
          "2022-09-16 07:53:00",
          "2022-09-16 07:53:00",
          "2022-09-16 08:06:00",
          "2022-09-16 08:51:00",
          "2022-09-16 08:51:00",
          "2022-09-16 08:06:00"
         ],
         "y": [
          1.8,
          1.8,
          2.2,
          2.2,
          null,
          0.8,
          0.8,
          1.2,
          1.2,
          null,
          -0.2,
          -0.2,
          0.2,
          0.2
         ]
        },
        {
         "fill": "toself",
         "fillcolor": "rgb(163, 32, 178)",
         "hoverinfo": "name",
         "legendgroup": "rgb(163, 32, 178)",
         "mode": "none",
         "name": "job 3",
         "showlegend": true,
         "type": "scatter",
         "x": [
          "2022-09-16 07:25:00",
          "2022-09-16 07:31:00",
          "2022-09-16 07:31:00",
          "2022-09-16 07:25:00",
          "2022-09-16 07:25:00",
          "2022-09-16 07:35:00",
          "2022-09-16 07:53:00",
          "2022-09-16 07:53:00",
          "2022-09-16 07:35:00",
          "2022-09-16 07:35:00",
          "2022-09-16 07:53:00",
          "2022-09-16 08:11:00",
          "2022-09-16 08:11:00",
          "2022-09-16 07:53:00"
         ],
         "y": [
          1.8,
          1.8,
          2.2,
          2.2,
          null,
          0.8,
          0.8,
          1.2,
          1.2,
          null,
          -0.2,
          -0.2,
          0.2,
          0.2
         ]
        },
        {
         "fill": "toself",
         "fillcolor": "rgb(167, 185, 240)",
         "hoverinfo": "name",
         "legendgroup": "rgb(167, 185, 240)",
         "mode": "none",
         "name": "job 1",
         "showlegend": true,
         "type": "scatter",
         "x": [
          "2022-09-16 07:00:00",
          "2022-09-16 07:05:00",
          "2022-09-16 07:05:00",
          "2022-09-16 07:00:00",
          "2022-09-16 07:00:00",
          "2022-09-16 07:05:00",
          "2022-09-16 07:25:00",
          "2022-09-16 07:25:00",
          "2022-09-16 07:05:00",
          "2022-09-16 07:05:00",
          "2022-09-16 07:25:00",
          "2022-09-16 07:30:00",
          "2022-09-16 07:30:00",
          "2022-09-16 07:25:00"
         ],
         "y": [
          1.8,
          1.8,
          2.2,
          2.2,
          null,
          0.8,
          0.8,
          1.2,
          1.2,
          null,
          -0.2,
          -0.2,
          0.2,
          0.2
         ]
        },
        {
         "fill": "toself",
         "fillcolor": "rgb(94, 241, 135)",
         "hoverinfo": "name",
         "legendgroup": "rgb(94, 241, 135)",
         "mode": "none",
         "name": "job 2",
         "showlegend": true,
         "type": "scatter",
         "x": [
          "2022-09-16 07:05:00",
          "2022-09-16 07:20:00",
          "2022-09-16 07:20:00",
          "2022-09-16 07:05:00",
          "2022-09-16 07:05:00",
          "2022-09-16 07:25:00",
          "2022-09-16 07:35:00",
          "2022-09-16 07:35:00",
          "2022-09-16 07:25:00",
          "2022-09-16 07:25:00",
          "2022-09-16 07:35:00",
          "2022-09-16 07:49:00",
          "2022-09-16 07:49:00",
          "2022-09-16 07:35:00"
         ],
         "y": [
          1.8,
          1.8,
          2.2,
          2.2,
          null,
          0.8,
          0.8,
          1.2,
          1.2,
          null,
          -0.2,
          -0.2,
          0.2,
          0.2
         ]
        },
        {
         "fill": "toself",
         "fillcolor": "rgb(97, 1, 250)",
         "hoverinfo": "name",
         "legendgroup": "rgb(97, 1, 250)",
         "mode": "none",
         "name": "job 5",
         "showlegend": true,
         "type": "scatter",
         "x": [
          "2022-09-16 07:53:00",
          "2022-09-16 08:10:00",
          "2022-09-16 08:10:00",
          "2022-09-16 07:53:00",
          "2022-09-16 07:53:00",
          "2022-09-16 08:10:00",
          "2022-09-16 08:15:00",
          "2022-09-16 08:15:00",
          "2022-09-16 08:10:00",
          "2022-09-16 08:10:00",
          "2022-09-16 08:15:00",
          "2022-09-16 08:37:00",
          "2022-09-16 08:37:00",
          "2022-09-16 08:15:00"
         ],
         "y": [
          1.8,
          1.8,
          2.2,
          2.2,
          null,
          0.8,
          0.8,
          1.2,
          1.2,
          null,
          -0.2,
          -0.2,
          0.2,
          0.2
         ]
        },
        {
         "legendgroup": "rgb(112, 252, 227)",
         "marker": {
          "color": "rgb(112, 252, 227)",
          "opacity": 0,
          "size": 1
         },
         "mode": "markers",
         "name": "",
         "showlegend": false,
         "text": [
          null,
          null,
          null,
          null,
          null,
          null
         ],
         "type": "scatter",
         "x": [
          "2022-09-16 07:35:00",
          "2022-09-16 07:47:00",
          "2022-09-16 07:53:00",
          "2022-09-16 08:06:00",
          "2022-09-16 08:06:00",
          "2022-09-16 08:51:00"
         ],
         "y": [
          2,
          2,
          1,
          1,
          0,
          0
         ]
        },
        {
         "legendgroup": "rgb(163, 32, 178)",
         "marker": {
          "color": "rgb(163, 32, 178)",
          "opacity": 0,
          "size": 1
         },
         "mode": "markers",
         "name": "",
         "showlegend": false,
         "text": [
          null,
          null,
          null,
          null,
          null,
          null
         ],
         "type": "scatter",
         "x": [
          "2022-09-16 07:25:00",
          "2022-09-16 07:31:00",
          "2022-09-16 07:35:00",
          "2022-09-16 07:53:00",
          "2022-09-16 07:53:00",
          "2022-09-16 08:11:00"
         ],
         "y": [
          2,
          2,
          1,
          1,
          0,
          0
         ]
        },
        {
         "legendgroup": "rgb(167, 185, 240)",
         "marker": {
          "color": "rgb(167, 185, 240)",
          "opacity": 0,
          "size": 1
         },
         "mode": "markers",
         "name": "",
         "showlegend": false,
         "text": [
          null,
          null,
          null,
          null,
          null,
          null
         ],
         "type": "scatter",
         "x": [
          "2022-09-16 07:00:00",
          "2022-09-16 07:05:00",
          "2022-09-16 07:05:00",
          "2022-09-16 07:25:00",
          "2022-09-16 07:25:00",
          "2022-09-16 07:30:00"
         ],
         "y": [
          2,
          2,
          1,
          1,
          0,
          0
         ]
        },
        {
         "legendgroup": "rgb(94, 241, 135)",
         "marker": {
          "color": "rgb(94, 241, 135)",
          "opacity": 0,
          "size": 1
         },
         "mode": "markers",
         "name": "",
         "showlegend": false,
         "text": [
          null,
          null,
          null,
          null,
          null,
          null
         ],
         "type": "scatter",
         "x": [
          "2022-09-16 07:05:00",
          "2022-09-16 07:20:00",
          "2022-09-16 07:25:00",
          "2022-09-16 07:35:00",
          "2022-09-16 07:35:00",
          "2022-09-16 07:49:00"
         ],
         "y": [
          2,
          2,
          1,
          1,
          0,
          0
         ]
        },
        {
         "legendgroup": "rgb(97, 1, 250)",
         "marker": {
          "color": "rgb(97, 1, 250)",
          "opacity": 0,
          "size": 1
         },
         "mode": "markers",
         "name": "",
         "showlegend": false,
         "text": [
          null,
          null,
          null,
          null,
          null,
          null
         ],
         "type": "scatter",
         "x": [
          "2022-09-16 07:53:00",
          "2022-09-16 08:10:00",
          "2022-09-16 08:10:00",
          "2022-09-16 08:15:00",
          "2022-09-16 08:15:00",
          "2022-09-16 08:37:00"
         ],
         "y": [
          2,
          2,
          1,
          1,
          0,
          0
         ]
        }
       ],
       "layout": {
        "height": 600,
        "hovermode": "closest",
        "showlegend": true,
        "template": {
         "data": {
          "bar": [
           {
            "error_x": {
             "color": "#2a3f5f"
            },
            "error_y": {
             "color": "#2a3f5f"
            },
            "marker": {
             "line": {
              "color": "#E5ECF6",
              "width": 0.5
             },
             "pattern": {
              "fillmode": "overlay",
              "size": 10,
              "solidity": 0.2
             }
            },
            "type": "bar"
           }
          ],
          "barpolar": [
           {
            "marker": {
             "line": {
              "color": "#E5ECF6",
              "width": 0.5
             },
             "pattern": {
              "fillmode": "overlay",
              "size": 10,
              "solidity": 0.2
             }
            },
            "type": "barpolar"
           }
          ],
          "carpet": [
           {
            "aaxis": {
             "endlinecolor": "#2a3f5f",
             "gridcolor": "white",
             "linecolor": "white",
             "minorgridcolor": "white",
             "startlinecolor": "#2a3f5f"
            },
            "baxis": {
             "endlinecolor": "#2a3f5f",
             "gridcolor": "white",
             "linecolor": "white",
             "minorgridcolor": "white",
             "startlinecolor": "#2a3f5f"
            },
            "type": "carpet"
           }
          ],
          "choropleth": [
           {
            "colorbar": {
             "outlinewidth": 0,
             "ticks": ""
            },
            "type": "choropleth"
           }
          ],
          "contour": [
           {
            "colorbar": {
             "outlinewidth": 0,
             "ticks": ""
            },
            "colorscale": [
             [
              0,
              "#0d0887"
             ],
             [
              0.1111111111111111,
              "#46039f"
             ],
             [
              0.2222222222222222,
              "#7201a8"
             ],
             [
              0.3333333333333333,
              "#9c179e"
             ],
             [
              0.4444444444444444,
              "#bd3786"
             ],
             [
              0.5555555555555556,
              "#d8576b"
             ],
             [
              0.6666666666666666,
              "#ed7953"
             ],
             [
              0.7777777777777778,
              "#fb9f3a"
             ],
             [
              0.8888888888888888,
              "#fdca26"
             ],
             [
              1,
              "#f0f921"
             ]
            ],
            "type": "contour"
           }
          ],
          "contourcarpet": [
           {
            "colorbar": {
             "outlinewidth": 0,
             "ticks": ""
            },
            "type": "contourcarpet"
           }
          ],
          "heatmap": [
           {
            "colorbar": {
             "outlinewidth": 0,
             "ticks": ""
            },
            "colorscale": [
             [
              0,
              "#0d0887"
             ],
             [
              0.1111111111111111,
              "#46039f"
             ],
             [
              0.2222222222222222,
              "#7201a8"
             ],
             [
              0.3333333333333333,
              "#9c179e"
             ],
             [
              0.4444444444444444,
              "#bd3786"
             ],
             [
              0.5555555555555556,
              "#d8576b"
             ],
             [
              0.6666666666666666,
              "#ed7953"
             ],
             [
              0.7777777777777778,
              "#fb9f3a"
             ],
             [
              0.8888888888888888,
              "#fdca26"
             ],
             [
              1,
              "#f0f921"
             ]
            ],
            "type": "heatmap"
           }
          ],
          "heatmapgl": [
           {
            "colorbar": {
             "outlinewidth": 0,
             "ticks": ""
            },
            "colorscale": [
             [
              0,
              "#0d0887"
             ],
             [
              0.1111111111111111,
              "#46039f"
             ],
             [
              0.2222222222222222,
              "#7201a8"
             ],
             [
              0.3333333333333333,
              "#9c179e"
             ],
             [
              0.4444444444444444,
              "#bd3786"
             ],
             [
              0.5555555555555556,
              "#d8576b"
             ],
             [
              0.6666666666666666,
              "#ed7953"
             ],
             [
              0.7777777777777778,
              "#fb9f3a"
             ],
             [
              0.8888888888888888,
              "#fdca26"
             ],
             [
              1,
              "#f0f921"
             ]
            ],
            "type": "heatmapgl"
           }
          ],
          "histogram": [
           {
            "marker": {
             "pattern": {
              "fillmode": "overlay",
              "size": 10,
              "solidity": 0.2
             }
            },
            "type": "histogram"
           }
          ],
          "histogram2d": [
           {
            "colorbar": {
             "outlinewidth": 0,
             "ticks": ""
            },
            "colorscale": [
             [
              0,
              "#0d0887"
             ],
             [
              0.1111111111111111,
              "#46039f"
             ],
             [
              0.2222222222222222,
              "#7201a8"
             ],
             [
              0.3333333333333333,
              "#9c179e"
             ],
             [
              0.4444444444444444,
              "#bd3786"
             ],
             [
              0.5555555555555556,
              "#d8576b"
             ],
             [
              0.6666666666666666,
              "#ed7953"
             ],
             [
              0.7777777777777778,
              "#fb9f3a"
             ],
             [
              0.8888888888888888,
              "#fdca26"
             ],
             [
              1,
              "#f0f921"
             ]
            ],
            "type": "histogram2d"
           }
          ],
          "histogram2dcontour": [
           {
            "colorbar": {
             "outlinewidth": 0,
             "ticks": ""
            },
            "colorscale": [
             [
              0,
              "#0d0887"
             ],
             [
              0.1111111111111111,
              "#46039f"
             ],
             [
              0.2222222222222222,
              "#7201a8"
             ],
             [
              0.3333333333333333,
              "#9c179e"
             ],
             [
              0.4444444444444444,
              "#bd3786"
             ],
             [
              0.5555555555555556,
              "#d8576b"
             ],
             [
              0.6666666666666666,
              "#ed7953"
             ],
             [
              0.7777777777777778,
              "#fb9f3a"
             ],
             [
              0.8888888888888888,
              "#fdca26"
             ],
             [
              1,
              "#f0f921"
             ]
            ],
            "type": "histogram2dcontour"
           }
          ],
          "mesh3d": [
           {
            "colorbar": {
             "outlinewidth": 0,
             "ticks": ""
            },
            "type": "mesh3d"
           }
          ],
          "parcoords": [
           {
            "line": {
             "colorbar": {
              "outlinewidth": 0,
              "ticks": ""
             }
            },
            "type": "parcoords"
           }
          ],
          "pie": [
           {
            "automargin": true,
            "type": "pie"
           }
          ],
          "scatter": [
           {
            "marker": {
             "colorbar": {
              "outlinewidth": 0,
              "ticks": ""
             }
            },
            "type": "scatter"
           }
          ],
          "scatter3d": [
           {
            "line": {
             "colorbar": {
              "outlinewidth": 0,
              "ticks": ""
             }
            },
            "marker": {
             "colorbar": {
              "outlinewidth": 0,
              "ticks": ""
             }
            },
            "type": "scatter3d"
           }
          ],
          "scattercarpet": [
           {
            "marker": {
             "colorbar": {
              "outlinewidth": 0,
              "ticks": ""
             }
            },
            "type": "scattercarpet"
           }
          ],
          "scattergeo": [
           {
            "marker": {
             "colorbar": {
              "outlinewidth": 0,
              "ticks": ""
             }
            },
            "type": "scattergeo"
           }
          ],
          "scattergl": [
           {
            "marker": {
             "colorbar": {
              "outlinewidth": 0,
              "ticks": ""
             }
            },
            "type": "scattergl"
           }
          ],
          "scattermapbox": [
           {
            "marker": {
             "colorbar": {
              "outlinewidth": 0,
              "ticks": ""
             }
            },
            "type": "scattermapbox"
           }
          ],
          "scatterpolar": [
           {
            "marker": {
             "colorbar": {
              "outlinewidth": 0,
              "ticks": ""
             }
            },
            "type": "scatterpolar"
           }
          ],
          "scatterpolargl": [
           {
            "marker": {
             "colorbar": {
              "outlinewidth": 0,
              "ticks": ""
             }
            },
            "type": "scatterpolargl"
           }
          ],
          "scatterternary": [
           {
            "marker": {
             "colorbar": {
              "outlinewidth": 0,
              "ticks": ""
             }
            },
            "type": "scatterternary"
           }
          ],
          "surface": [
           {
            "colorbar": {
             "outlinewidth": 0,
             "ticks": ""
            },
            "colorscale": [
             [
              0,
              "#0d0887"
             ],
             [
              0.1111111111111111,
              "#46039f"
             ],
             [
              0.2222222222222222,
              "#7201a8"
             ],
             [
              0.3333333333333333,
              "#9c179e"
             ],
             [
              0.4444444444444444,
              "#bd3786"
             ],
             [
              0.5555555555555556,
              "#d8576b"
             ],
             [
              0.6666666666666666,
              "#ed7953"
             ],
             [
              0.7777777777777778,
              "#fb9f3a"
             ],
             [
              0.8888888888888888,
              "#fdca26"
             ],
             [
              1,
              "#f0f921"
             ]
            ],
            "type": "surface"
           }
          ],
          "table": [
           {
            "cells": {
             "fill": {
              "color": "#EBF0F8"
             },
             "line": {
              "color": "white"
             }
            },
            "header": {
             "fill": {
              "color": "#C8D4E3"
             },
             "line": {
              "color": "white"
             }
            },
            "type": "table"
           }
          ]
         },
         "layout": {
          "annotationdefaults": {
           "arrowcolor": "#2a3f5f",
           "arrowhead": 0,
           "arrowwidth": 1
          },
          "autotypenumbers": "strict",
          "coloraxis": {
           "colorbar": {
            "outlinewidth": 0,
            "ticks": ""
           }
          },
          "colorscale": {
           "diverging": [
            [
             0,
             "#8e0152"
            ],
            [
             0.1,
             "#c51b7d"
            ],
            [
             0.2,
             "#de77ae"
            ],
            [
             0.3,
             "#f1b6da"
            ],
            [
             0.4,
             "#fde0ef"
            ],
            [
             0.5,
             "#f7f7f7"
            ],
            [
             0.6,
             "#e6f5d0"
            ],
            [
             0.7,
             "#b8e186"
            ],
            [
             0.8,
             "#7fbc41"
            ],
            [
             0.9,
             "#4d9221"
            ],
            [
             1,
             "#276419"
            ]
           ],
           "sequential": [
            [
             0,
             "#0d0887"
            ],
            [
             0.1111111111111111,
             "#46039f"
            ],
            [
             0.2222222222222222,
             "#7201a8"
            ],
            [
             0.3333333333333333,
             "#9c179e"
            ],
            [
             0.4444444444444444,
             "#bd3786"
            ],
            [
             0.5555555555555556,
             "#d8576b"
            ],
            [
             0.6666666666666666,
             "#ed7953"
            ],
            [
             0.7777777777777778,
             "#fb9f3a"
            ],
            [
             0.8888888888888888,
             "#fdca26"
            ],
            [
             1,
             "#f0f921"
            ]
           ],
           "sequentialminus": [
            [
             0,
             "#0d0887"
            ],
            [
             0.1111111111111111,
             "#46039f"
            ],
            [
             0.2222222222222222,
             "#7201a8"
            ],
            [
             0.3333333333333333,
             "#9c179e"
            ],
            [
             0.4444444444444444,
             "#bd3786"
            ],
            [
             0.5555555555555556,
             "#d8576b"
            ],
            [
             0.6666666666666666,
             "#ed7953"
            ],
            [
             0.7777777777777778,
             "#fb9f3a"
            ],
            [
             0.8888888888888888,
             "#fdca26"
            ],
            [
             1,
             "#f0f921"
            ]
           ]
          },
          "colorway": [
           "#636efa",
           "#EF553B",
           "#00cc96",
           "#ab63fa",
           "#FFA15A",
           "#19d3f3",
           "#FF6692",
           "#B6E880",
           "#FF97FF",
           "#FECB52"
          ],
          "font": {
           "color": "#2a3f5f"
          },
          "geo": {
           "bgcolor": "white",
           "lakecolor": "white",
           "landcolor": "#E5ECF6",
           "showlakes": true,
           "showland": true,
           "subunitcolor": "white"
          },
          "hoverlabel": {
           "align": "left"
          },
          "hovermode": "closest",
          "mapbox": {
           "style": "light"
          },
          "paper_bgcolor": "white",
          "plot_bgcolor": "#E5ECF6",
          "polar": {
           "angularaxis": {
            "gridcolor": "white",
            "linecolor": "white",
            "ticks": ""
           },
           "bgcolor": "#E5ECF6",
           "radialaxis": {
            "gridcolor": "white",
            "linecolor": "white",
            "ticks": ""
           }
          },
          "scene": {
           "xaxis": {
            "backgroundcolor": "#E5ECF6",
            "gridcolor": "white",
            "gridwidth": 2,
            "linecolor": "white",
            "showbackground": true,
            "ticks": "",
            "zerolinecolor": "white"
           },
           "yaxis": {
            "backgroundcolor": "#E5ECF6",
            "gridcolor": "white",
            "gridwidth": 2,
            "linecolor": "white",
            "showbackground": true,
            "ticks": "",
            "zerolinecolor": "white"
           },
           "zaxis": {
            "backgroundcolor": "#E5ECF6",
            "gridcolor": "white",
            "gridwidth": 2,
            "linecolor": "white",
            "showbackground": true,
            "ticks": "",
            "zerolinecolor": "white"
           }
          },
          "shapedefaults": {
           "line": {
            "color": "#2a3f5f"
           }
          },
          "ternary": {
           "aaxis": {
            "gridcolor": "white",
            "linecolor": "white",
            "ticks": ""
           },
           "baxis": {
            "gridcolor": "white",
            "linecolor": "white",
            "ticks": ""
           },
           "bgcolor": "#E5ECF6",
           "caxis": {
            "gridcolor": "white",
            "linecolor": "white",
            "ticks": ""
           }
          },
          "title": {
           "x": 0.05
          },
          "xaxis": {
           "automargin": true,
           "gridcolor": "white",
           "linecolor": "white",
           "ticks": "",
           "title": {
            "standoff": 15
           },
           "zerolinecolor": "white",
           "zerolinewidth": 2
          },
          "yaxis": {
           "automargin": true,
           "gridcolor": "white",
           "linecolor": "white",
           "ticks": "",
           "title": {
            "standoff": 15
           },
           "zerolinecolor": "white",
           "zerolinewidth": 2
          }
         }
        },
        "title": {
         "text": "FLOW SHOP SCHEDULING - OPTIMUS SOLUTIONS LTDA "
        },
        "xaxis": {
         "rangeselector": {
          "buttons": [
           {
            "count": 7,
            "label": "1w",
            "step": "day",
            "stepmode": "backward"
           },
           {
            "count": 1,
            "label": "1m",
            "step": "month",
            "stepmode": "backward"
           },
           {
            "count": 6,
            "label": "6m",
            "step": "month",
            "stepmode": "backward"
           },
           {
            "count": 1,
            "label": "YTD",
            "step": "year",
            "stepmode": "todate"
           },
           {
            "count": 1,
            "label": "1y",
            "step": "year",
            "stepmode": "backward"
           },
           {
            "step": "all"
           }
          ]
         },
         "showgrid": true,
         "type": "date",
         "zeroline": false
        },
        "yaxis": {
         "autorange": false,
         "range": [
          -1,
          4
         ],
         "showgrid": false,
         "ticktext": [
          "maq 3",
          "maq 2",
          "maq 1"
         ],
         "tickvals": [
          0,
          1,
          2
         ],
         "zeroline": false
        }
       }
      }
     },
     "metadata": {},
     "output_type": "display_data"
    }
   ],
   "source": [
    "#Impressao do Gantt\n",
    "\n",
    "df = []\n",
    "colors =[]\n",
    "for i in range(N):\n",
    "    for j in range(M):\n",
    "        s = str(datetime.datetime.strptime('2022-09-16 07:00:00', \"%Y-%m-%d %H:%M:%S\") + datetime.timedelta(minutes=np.float64(inicio[i][j]) ))\n",
    "        d = datetime.datetime.strptime(s, \"%Y-%m-%d %H:%M:%S\")  + datetime.timedelta(minutes=np.float64(seq_otima[i][j]))\n",
    "        df.append(dict(Task=str(\"maq \"+str(j+1)), Start=str(s), Finish=str(d), Resource=str(\"job \"+str(i+1))))\n",
    "        #print(f'Job {i+1} na Máquina {j+1}')\n",
    "        #print(\"O tempo de início é: \",s)\n",
    "        #print(\"O tempo de término é: \",d)\n",
    "        #print(\"\\n\")\n",
    "        r = lambda: random.randint(0,255)\n",
    "        colors.append('#%02X%02X%02X' % (r(),r(),r()))\n",
    "\n",
    "\n",
    "\n",
    "fig = ff.create_gantt(df, colors = colors, index_col='Resource', title = \"FLOW SHOP SCHEDULING - OPTIMUS SOLUTIONS LTDA \",show_colorbar=True, group_tasks=True,showgrid_x =True)    \n",
    "fig.show()\n",
    "\n"
   ]
  }
 ],
 "metadata": {
  "hide_input": false,
  "kernelspec": {
   "display_name": "Python 3.9.12 64-bit",
   "language": "python",
   "name": "python3"
  },
  "language_info": {
   "codemirror_mode": {
    "name": "ipython",
    "version": 3
   },
   "file_extension": ".py",
   "mimetype": "text/x-python",
   "name": "python",
   "nbconvert_exporter": "python",
   "pygments_lexer": "ipython3",
   "version": "3.9.12"
  },
  "toc": {
   "base_numbering": 1,
   "nav_menu": {},
   "number_sections": true,
   "sideBar": true,
   "skip_h1_title": false,
   "title_cell": "Table of Contents",
   "title_sidebar": "Contents",
   "toc_cell": false,
   "toc_position": {},
   "toc_section_display": true,
   "toc_window_display": false
  },
  "vscode": {
   "interpreter": {
    "hash": "bdf60064ca17e34e6447c42ffc4d1bdbbb685bef12fe6354d40c5de0a529b5a2"
   }
  }
 },
 "nbformat": 4,
 "nbformat_minor": 4
}
